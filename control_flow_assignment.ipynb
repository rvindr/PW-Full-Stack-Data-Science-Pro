{
 "cells": [
  {
   "cell_type": "markdown",
   "id": "1e2db5a2-a84a-464b-8f38-1925ce18969d",
   "metadata": {},
   "source": [
    "# Basic Level:"
   ]
  },
  {
   "cell_type": "markdown",
   "id": "c3258d7e-9da1-4a0d-820c-785f11b5a6e2",
   "metadata": {},
   "source": [
    "1. Write a Python program that checks if a given number is positive, negative, or zero"
   ]
  },
  {
   "cell_type": "code",
   "execution_count": 5,
   "id": "5bef4e20-12fa-4505-8932-5a9e2a90b157",
   "metadata": {},
   "outputs": [
    {
     "name": "stdin",
     "output_type": "stream",
     "text": [
      "Enter a number :  -12\n"
     ]
    },
    {
     "name": "stdout",
     "output_type": "stream",
     "text": [
      "-12 is negative\n"
     ]
    }
   ],
   "source": [
    "#taking input from user\n",
    "num=int(input(\"Enter a number : \"))\n",
    "\n",
    "if num==0:\n",
    "    print(f\"{num} is zero\")\n",
    "elif num<0:\n",
    "    print(f\"{num} is negative\")\n",
    "elif num>0:\n",
    "    print(f\"{num} is positive\")\n",
    "    \n"
   ]
  },
  {
   "cell_type": "markdown",
   "id": "0c3aec93-48b4-49bd-8066-cedd58bcfbbf",
   "metadata": {},
   "source": [
    "2. Create a program to determine if a person is eligible to vote based on their age."
   ]
  },
  {
   "cell_type": "code",
   "execution_count": 6,
   "id": "bc793ab2-da82-4b78-ac0d-0dd9df21e810",
   "metadata": {},
   "outputs": [
    {
     "name": "stdin",
     "output_type": "stream",
     "text": [
      "enter your age : 22\n"
     ]
    },
    {
     "name": "stdout",
     "output_type": "stream",
     "text": [
      "Congratulations!, you are eligible to vote \n"
     ]
    }
   ],
   "source": [
    "age=int(input(\"enter your age :\"))\n",
    "\n",
    "if age<18:\n",
    "    print('You are under 18, so you not eligible to vote')\n",
    "else:\n",
    "    print('Congratulations!, you are eligible to vote ')"
   ]
  },
  {
   "cell_type": "markdown",
   "id": "c7cb693f-33de-4efd-8aac-cb6d692ef7f4",
   "metadata": {},
   "source": [
    "3. Write a program to find the maximum of two given numbers using conditional statements"
   ]
  },
  {
   "cell_type": "code",
   "execution_count": 7,
   "id": "9ef64248-27e5-474a-aaf5-f1544a7f0069",
   "metadata": {},
   "outputs": [
    {
     "name": "stdin",
     "output_type": "stream",
     "text": [
      "enter first number : 3\n",
      "enter second number :  2\n"
     ]
    },
    {
     "name": "stdout",
     "output_type": "stream",
     "text": [
      "3 is greater than 2\n"
     ]
    }
   ],
   "source": [
    "num1=int(input(\"enter first number :\"))\n",
    "num2=int(input(\"enter second number : \"))\n",
    "\n",
    "if num1>num2:\n",
    "    print(f\"{num1} is greater than {num2}\")\n",
    "else:\n",
    "    print(f\"{num2} is greater than {num1}\")\n",
    "    \n"
   ]
  },
  {
   "cell_type": "markdown",
   "id": "fd8c3dab-eade-4578-9906-8cf51e1e9c5c",
   "metadata": {},
   "source": [
    "4. Develop a program that calculates the grade of a student based on their exam score."
   ]
  },
  {
   "cell_type": "code",
   "execution_count": 11,
   "id": "affea901-9fe8-4422-8762-dd88789f742e",
   "metadata": {},
   "outputs": [
    {
     "name": "stdin",
     "output_type": "stream",
     "text": [
      "Enter the student's score:  75\n"
     ]
    },
    {
     "name": "stdout",
     "output_type": "stream",
     "text": [
      "The student's grade is: B\n"
     ]
    }
   ],
   "source": [
    "# Input: Get the student's score\n",
    "score = int(input(\"Enter the student's score: \"))\n",
    "\n",
    "# Grading based on score\n",
    "if score >= 90:\n",
    "    grade = \"A+\"\n",
    "elif score >= 80:\n",
    "    grade = \"A\"\n",
    "elif score >= 70:\n",
    "    grade = \"B\"\n",
    "elif score >= 60:\n",
    "    grade = \"C\"\n",
    "else:\n",
    "    grade = \"F\"\n",
    "\n",
    "# Output: Display the grade\n",
    "print(f\"The student's grade is: {grade}\")\n"
   ]
  },
  {
   "cell_type": "markdown",
   "id": "5a9eb7a3-28b1-449f-9c99-ac6055235f1b",
   "metadata": {},
   "source": [
    "5. Create a program that checks if a year is a leap year or not."
   ]
  },
  {
   "cell_type": "code",
   "execution_count": 14,
   "id": "c4f56131-a046-4b72-9a5e-237b58f8f485",
   "metadata": {},
   "outputs": [
    {
     "name": "stdout",
     "output_type": "stream",
     "text": [
      "2024 is a leap year\n"
     ]
    }
   ],
   "source": [
    "# Python program to check if year is a leap year or not\n",
    "\n",
    "year = 2024\n",
    "\n",
    "# To get year (integer input) from the user\n",
    "# year = int(input(\"Enter a year: \"))\n",
    "\n",
    "# divided by 100 means century year (ending with 00)\n",
    "# century year divided by 400 is leap year\n",
    "if (year % 400 == 0) and (year % 100 == 0):\n",
    "    print(\"{0} is a leap year\".format(year))\n",
    "\n",
    "# not divided by 100 means not a century year\n",
    "# year divided by 4 is a leap year\n",
    "elif (year % 4 ==0) and (year % 100 != 0):\n",
    "    print(\"{0} is a leap year\".format(year))\n",
    "\n",
    "# if not divided by both 400 (century year) and 4 (not century year)\n",
    "# year is not leap year\n",
    "else:\n",
    "    print(\"{0} is not a leap year\".format(year))"
   ]
  },
  {
   "cell_type": "markdown",
   "id": "5017d7cd-676c-4670-a5d0-1e30d0836ab1",
   "metadata": {},
   "source": [
    "6. Write a program to classify a triangle based on its sides' lengths."
   ]
  },
  {
   "cell_type": "code",
   "execution_count": 17,
   "id": "c026be3d-351c-47a5-8d72-7fa2784c1019",
   "metadata": {},
   "outputs": [
    {
     "name": "stdin",
     "output_type": "stream",
     "text": [
      "enter first side of triangle :  32.1\n",
      "enter second side of triangle :  32.1\n",
      "enter third side of triangle :  32.2\n"
     ]
    },
    {
     "name": "stdout",
     "output_type": "stream",
     "text": [
      "Isoceles Triangle\n"
     ]
    }
   ],
   "source": [
    "side1=float(input(\"enter first side of triangle : \"))\n",
    "side2=float(input(\"enter second side of triangle : \"))\n",
    "side3=float(input(\"enter third side of triangle : \"))\n",
    "\n",
    "# Equilateral Triangle has three equal sides\n",
    "if side1==side2==side3:\n",
    "    print(\"Equilateral Triangle\")\n",
    "# Isoceles Triangle has two equal sides\n",
    "elif side1==side2 or side1==side3 or side2==side3:\n",
    "    print(\"Isoceles Triangle\")\n",
    "# Scalene Triangle has no equal sides\n",
    "else:\n",
    "    print(\"Scalene Triangle\")"
   ]
  },
  {
   "cell_type": "markdown",
   "id": "097d9a5a-0ceb-48df-8f65-6a2a6af0cd85",
   "metadata": {},
   "source": [
    "7. Build a program that determines the largest of three given numbers."
   ]
  },
  {
   "cell_type": "code",
   "execution_count": 18,
   "id": "e313dea5-f907-408b-971b-76aad97bb227",
   "metadata": {},
   "outputs": [
    {
     "name": "stdin",
     "output_type": "stream",
     "text": [
      "enter first number : 3\n",
      "enter second number :  25\n",
      "enter third number :  52\n"
     ]
    },
    {
     "name": "stdout",
     "output_type": "stream",
     "text": [
      "52 number is greatest number\n"
     ]
    }
   ],
   "source": [
    "num1=int(input(\"enter first number :\"))\n",
    "num2=int(input(\"enter second number : \"))\n",
    "num3=int(input(\"enter third number : \"))\n",
    "\n",
    "if num1>num2 and num1>num3:\n",
    "    print(f'{num1} number is greatest number')\n",
    "elif (num2>num1 and num2>num3) :\n",
    "    print(f'{num2} number is greatest number')\n",
    "else:\n",
    "    print(f'{num3} number is greatest number')\n",
    "    \n"
   ]
  },
  {
   "cell_type": "markdown",
   "id": "edb77b98-ca53-4f96-9b1b-db559fd0e4f3",
   "metadata": {},
   "source": [
    "8. Develop a program that checks whether a character is a vowel or a consonant."
   ]
  },
  {
   "cell_type": "code",
   "execution_count": 19,
   "id": "2cda8ac0-fb7b-4be5-89a0-1be717d7b601",
   "metadata": {},
   "outputs": [
    {
     "name": "stdin",
     "output_type": "stream",
     "text": [
      "Enter character f\n"
     ]
    },
    {
     "name": "stdout",
     "output_type": "stream",
     "text": [
      "Character is consonant\n"
     ]
    }
   ],
   "source": [
    "#taking input \n",
    "char=input(\"Enter character\")\n",
    "vowels='aeiouAEIOU'\n",
    "\n",
    "if char in vowels:\n",
    "    print(\"Character is vowels\")\n",
    "else:\n",
    "    print(\"Character is consonant\")"
   ]
  },
  {
   "cell_type": "markdown",
   "id": "8f54b84c-3f61-4f48-9a50-85d433fcb55d",
   "metadata": {},
   "source": [
    "9. Create a program to calculate the total cost of a shopping cart based on discounts"
   ]
  },
  {
   "cell_type": "code",
   "execution_count": 18,
   "id": "f13090ee-2077-461c-bdb8-8bc16447349f",
   "metadata": {},
   "outputs": [
    {
     "name": "stdin",
     "output_type": "stream",
     "text": [
      "Enter the total cost of items in the shopping cart:  87845\n"
     ]
    },
    {
     "name": "stdout",
     "output_type": "stream",
     "text": [
      "Total cost with discounts: $79060.50\n"
     ]
    }
   ],
   "source": [
    "# Input: Get the total cost of items in the shopping cart\n",
    "total_cost = float(input(\"Enter the total cost of items in the shopping cart: \"))\n",
    "\n",
    "# Apply discounts based on the total cost\n",
    "if total_cost >= 100:\n",
    "    discount = 0.10  # 10% discount for purchases over $100\n",
    "elif total_cost >= 50:\n",
    "    discount = 0.05  # 5% discount for purchases over $50\n",
    "else:\n",
    "    discount = 0\n",
    "\n",
    "# Calculate the discounted total cost\n",
    "discounted_total = total_cost - (total_cost * discount)\n",
    "\n",
    "# Output: Display the total cost with discounts\n",
    "print(f\"Total cost with discounts: ${discounted_total:.2f}\")\n"
   ]
  },
  {
   "cell_type": "markdown",
   "id": "ecb90932-ca97-4e79-9d77-8c139c6b08f0",
   "metadata": {},
   "source": [
    "10. Write a program that checks if a given number is even or odd."
   ]
  },
  {
   "cell_type": "code",
   "execution_count": 19,
   "id": "af026e0f-e57e-4b0c-8435-9abd660eff87",
   "metadata": {},
   "outputs": [
    {
     "name": "stdin",
     "output_type": "stream",
     "text": [
      "Enter a number :  23\n"
     ]
    },
    {
     "name": "stdout",
     "output_type": "stream",
     "text": [
      "23 is odd number :\n"
     ]
    }
   ],
   "source": [
    "num=int(input(\"Enter a number : \"))\n",
    "\n",
    "if num%2==0:\n",
    "    print(f\"{num} is even number \")\n",
    "else:\n",
    "    print(f\"{num} is odd number :\")"
   ]
  },
  {
   "cell_type": "markdown",
   "id": "0e9fb57d-8069-4f03-8d8f-d37d5918a65f",
   "metadata": {},
   "source": [
    "# Intermediate Level"
   ]
  },
  {
   "cell_type": "markdown",
   "id": "d4abc209-8e0b-404f-9d84-246a21d2f1dd",
   "metadata": {},
   "source": [
    "11. Write a program that calculates the roots of a quadratic equation "
   ]
  },
  {
   "cell_type": "code",
   "execution_count": null,
   "id": "edd985dd-56d2-474b-b7fa-d96e2ead7e8c",
   "metadata": {},
   "outputs": [
    {
     "name": "stdin",
     "output_type": "stream",
     "text": [
      "Enter the coefficient a:  4\n"
     ]
    }
   ],
   "source": [
    "import math\n",
    "\n",
    "# Input: Get the coefficients of the quadratic equation (a, b, c)\n",
    "a = float(input(\"Enter the coefficient a: \"))\n",
    "b = float(input(\"Enter the coefficient b: \"))\n",
    "c = float(input(\"Enter the coefficient c: \"))\n",
    "\n",
    "# Calculate the discriminant\n",
    "discriminant = b**2 - 4 * a * c\n",
    "\n",
    "# Check the discriminant and calculate the roots\n",
    "if discriminant > 0:\n",
    "    # Two real and distinct roots\n",
    "    root1 = (-b + math.sqrt(discriminant)) / (2 * a)\n",
    "    root2 = (-b - math.sqrt(discriminant)) / (2 * a)\n",
    "    print(f\"Root 1: {root1:.2f}\")\n",
    "    print(f\"Root 2: {root2:.2f}\")\n",
    "elif discriminant == 0:\n",
    "    # One real and equal root\n",
    "    root = -b / (2 * a)\n",
    "    print(f\"Root: {root:.2f}\")\n",
    "else:\n",
    "    # Complex roots\n",
    "    real_part = -b / (2 * a)\n",
    "    imaginary_part = math.sqrt(abs(discriminant)) / (2 * a)\n",
    "    print(f\"Root 1: {real_part:.2f} + {imaginary_part:.2f}i\")\n",
    "    print(f\"Root 2: {real_part:.2f} - {imaginary_part:.2f}i\")\n"
   ]
  },
  {
   "cell_type": "markdown",
   "id": "f7fb12cf-69a8-43e2-a1d9-17c04020d510",
   "metadata": {},
   "source": [
    "12. Create a program that determines the day of the week based on the day number (1-7)"
   ]
  },
  {
   "cell_type": "code",
   "execution_count": 2,
   "id": "e56e9fbe-9be5-42e3-be3e-9fc77df29519",
   "metadata": {},
   "outputs": [
    {
     "name": "stdin",
     "output_type": "stream",
     "text": [
      "Enter num :  2\n"
     ]
    },
    {
     "name": "stdout",
     "output_type": "stream",
     "text": [
      "Tuesday\n"
     ]
    }
   ],
   "source": [
    "num = int(input(\"Enter num : \"))\n",
    "\n",
    "if num==1:\n",
    "    print('Monday')\n",
    "elif num==2:\n",
    "    print('Tuesday')\n",
    "elif num==3:\n",
    "    print('Wednesday')\n",
    "elif num==4:\n",
    "    print('Thursday')\n",
    "elif num==5:\n",
    "    print('Friday')\n",
    "elif num==6:\n",
    "    print('Saturday')\n",
    "elif num==7:\n",
    "    print('Sunday')\n",
    "else:\n",
    "    print('Invaild input')"
   ]
  },
  {
   "cell_type": "markdown",
   "id": "ff42094d-df61-4f1a-a88c-c54275eeef32",
   "metadata": {},
   "source": [
    "13. Develop a program that calculates the factorial of a given number using recursion."
   ]
  },
  {
   "cell_type": "code",
   "execution_count": 8,
   "id": "fcac9fa8-625d-4256-b74f-9760a7cce882",
   "metadata": {},
   "outputs": [
    {
     "name": "stdout",
     "output_type": "stream",
     "text": [
      "Factorial of 4 is : 24\n"
     ]
    }
   ],
   "source": [
    "def factorial(n):\n",
    "    if n==1:\n",
    "        return 1\n",
    "    else:\n",
    "        return n*factorial(n-1) #calling function \n",
    "\n",
    "print(f\"Factorial of 4 is : {factorial(4)}\")"
   ]
  },
  {
   "cell_type": "markdown",
   "id": "283169c0-22bc-476e-af79-aad05ec100e7",
   "metadata": {},
   "source": [
    "14. Write a program to find the largest among three numbers without using the `max()` function."
   ]
  },
  {
   "cell_type": "code",
   "execution_count": 2,
   "id": "84b1e4a8-1b59-4f22-89c3-18132c037190",
   "metadata": {},
   "outputs": [
    {
     "name": "stdout",
     "output_type": "stream",
     "text": [
      "Max value :  12\n"
     ]
    },
    {
     "name": "stdin",
     "output_type": "stream",
     "text": [
      "enter first number : 5\n",
      "enter second number :  2\n",
      "enter third number :  12\n"
     ]
    },
    {
     "name": "stdout",
     "output_type": "stream",
     "text": [
      "12 number is greatest number\n"
     ]
    }
   ],
   "source": [
    "# Method 1 : By using reduce function\n",
    "from functools import reduce\n",
    "\n",
    "li=[5,2,12]\n",
    "\n",
    "max=reduce(lambda a,b:a if a>b else b,li)\n",
    "print(\"Max value : \",max)\n",
    "\n",
    "#Methdo 2 : By using if-else condition\n",
    "\n",
    "num1=int(input(\"enter first number :\"))\n",
    "num2=int(input(\"enter second number : \"))\n",
    "num3=int(input(\"enter third number : \"))\n",
    "\n",
    "if num1>num2 and num1>num3:\n",
    "    print(f'{num1} number is greatest number')\n",
    "elif (num2>num1 and num2>num3) :\n",
    "    print(f'{num2} number is greatest number')\n",
    "else:\n",
    "    print(f'{num3} number is greatest number')\n",
    "    \n"
   ]
  },
  {
   "cell_type": "markdown",
   "id": "1ba79160-b9fe-4a61-996f-57a8df3abaec",
   "metadata": {},
   "source": [
    "15. Create a program that simulates a basic ATM transaction menu."
   ]
  },
  {
   "cell_type": "code",
   "execution_count": 7,
   "id": "a89db310-1b24-4624-99e8-f3dc90baeb6b",
   "metadata": {},
   "outputs": [
    {
     "name": "stdout",
     "output_type": "stream",
     "text": [
      "Welcome to xyz bank ATM\n"
     ]
    },
    {
     "name": "stdin",
     "output_type": "stream",
     "text": [
      "Press 'w' for Withdraw  | Press 'b' for Check Balance | Press 'e' for exit w\n",
      "Enter amount 320\n"
     ]
    },
    {
     "name": "stdout",
     "output_type": "stream",
     "text": [
      "Withdrawal Successful \n",
      " Remaining balance 23000\n"
     ]
    },
    {
     "name": "stdin",
     "output_type": "stream",
     "text": [
      "Press 'w' for Withdraw  | Press 'b' for Check Balance | Press 'e' for exit b\n"
     ]
    },
    {
     "name": "stdout",
     "output_type": "stream",
     "text": [
      "Balance :  23320\n"
     ]
    },
    {
     "name": "stdin",
     "output_type": "stream",
     "text": [
      "Press 'w' for Withdraw  | Press 'b' for Check Balance | Press 'e' for exit ew\n"
     ]
    },
    {
     "name": "stdout",
     "output_type": "stream",
     "text": [
      "Invalid input Please try again! \n"
     ]
    },
    {
     "name": "stdin",
     "output_type": "stream",
     "text": [
      "Press 'w' for Withdraw  | Press 'b' for Check Balance | Press 'e' for exit e\n"
     ]
    },
    {
     "name": "stdout",
     "output_type": "stream",
     "text": [
      "Thank You\n"
     ]
    }
   ],
   "source": [
    "#greeting customer \n",
    "print(\"Welcome to xyz bank ATM\")\n",
    "\n",
    "#Initialize operation value any cha \n",
    "operation=True\n",
    "\n",
    "while operation!='e':\n",
    "    #taking input from the user what he/she want to do\n",
    "    operation=input(\"Press 'w' for Withdraw  | Press 'b' for Check Balance | Press 'e' for exit\").lower()\n",
    "    \n",
    "    #let us suppose user account balance just to perform activity\n",
    "    balance=23320\n",
    "    \n",
    "    #withdrawal\n",
    "    if operation=='w':\n",
    "        amount=int(input(\"Enter amount\"))\n",
    "        balance=balance-amount\n",
    "        print(f\"Withdrawal Successful \\nRemaining balance {balance}\")\n",
    "        \n",
    "    #check balance\n",
    "    elif operation=='b':\n",
    "        print(\"Balance : \",balance)\n",
    "    \n",
    "    #exit\n",
    "    elif operation=='e':\n",
    "        operation='e'\n",
    "    else:\n",
    "        print(\"Invalid input Please try again! \")\n",
    "        \n",
    "print(\"Thank You\")        "
   ]
  },
  {
   "cell_type": "markdown",
   "id": "86b834b6-9314-4d98-8b36-5e9ce98b4159",
   "metadata": {},
   "source": [
    "16. Build a program that checks if a given string is a palindrome or not"
   ]
  },
  {
   "cell_type": "code",
   "execution_count": 8,
   "id": "fdb3e25d-f554-4461-998c-e64ea1ff71bc",
   "metadata": {},
   "outputs": [
    {
     "name": "stdin",
     "output_type": "stream",
     "text": [
      "Enter a string ;  madam madam\n"
     ]
    },
    {
     "name": "stdout",
     "output_type": "stream",
     "text": [
      "String is palindrome\n"
     ]
    }
   ],
   "source": [
    "input_string=input(\"Enter a string ; \")\n",
    "#converting string to lower case\n",
    "\n",
    "input_string=input_string.lower().replace(\" \",\"\")\n",
    "\n",
    "if input_string==input_string[::-1]:\n",
    "    print('String is palindrome')\n",
    "else:\n",
    "    print('String is not palindrome')"
   ]
  },
  {
   "cell_type": "markdown",
   "id": "63807f67-441d-437b-a548-e2c19d0cc568",
   "metadata": {},
   "source": [
    "7. Write a program that calculates the average of a list of numbers, excluding the smallest and largest values."
   ]
  },
  {
   "cell_type": "code",
   "execution_count": 26,
   "id": "c429b35a-ea62-4bc2-990c-137549da1582",
   "metadata": {},
   "outputs": [
    {
     "name": "stdout",
     "output_type": "stream",
     "text": [
      "Average value excluding the smallest and largest values :  5.5\n"
     ]
    }
   ],
   "source": [
    "def avg_list(li):\n",
    "    total_sum=0\n",
    "    #Find and store min and max value \n",
    "    max_value=max(li)\n",
    "    min_value=min(li)\n",
    "    for i in range(len(li)):\n",
    "        if max_value!=li[i] and min_value!=li[i]:\n",
    "            total_sum+=li[i]\n",
    "    return total_sum/(len(li)-2)\n",
    "\n",
    "li=[1,2,3,4,5,6,7,8,9,10]\n",
    "print(\"Average value excluding the smallest and largest values : \",avg_list(li))"
   ]
  },
  {
   "cell_type": "markdown",
   "id": "aa985856-ea1e-4ee7-b22f-03318a287978",
   "metadata": {},
   "source": [
    "18. Develop a program that converts a given temperature from Celsius to Fahrenheit"
   ]
  },
  {
   "cell_type": "code",
   "execution_count": 28,
   "id": "81ba892a-2bbc-4920-a448-8da832b91a60",
   "metadata": {},
   "outputs": [
    {
     "name": "stdin",
     "output_type": "stream",
     "text": [
      "Enter the temperature in Celsius:  23\n"
     ]
    },
    {
     "name": "stdout",
     "output_type": "stream",
     "text": [
      "23.0 degrees Celsius is equal to 73.4 degrees Fahrenheit.\n"
     ]
    }
   ],
   "source": [
    "#Fahrenheit = (Celsius * 9/5) + 32\n",
    "# Input: Get the temperature in Celsius from the user\n",
    "celsius = float(input(\"Enter the temperature in Celsius: \"))\n",
    "\n",
    "# Convert Celsius to Fahrenheit\n",
    "fahrenheit = (celsius * 9/5) + 32\n",
    "\n",
    "# Output: Display the temperature in Fahrenheit\n",
    "print(f\"{celsius} degrees Celsius is equal to {fahrenheit} degrees Fahrenheit.\")\n"
   ]
  },
  {
   "cell_type": "markdown",
   "id": "5b2a96d0-cbf7-4f96-955e-46327448aa5d",
   "metadata": {},
   "source": [
    "19. Create a program that simulates a basic calculator for addition, subtraction, multiplication, and division.\n"
   ]
  },
  {
   "cell_type": "code",
   "execution_count": 16,
   "id": "6d15bcd3-f0de-4b0b-a0fc-e07893153d3c",
   "metadata": {},
   "outputs": [
    {
     "name": "stdin",
     "output_type": "stream",
     "text": [
      "enter first number :  345\n",
      "enter second number : 54\n",
      "Press '+' for addition | Press '-' for subtraction | Press '/' for division | Press '*' for multiplication  +\n"
     ]
    },
    {
     "name": "stdout",
     "output_type": "stream",
     "text": [
      "Result : 345.0+54.0= 399.0\n"
     ]
    }
   ],
   "source": [
    "#taking input from user to calulate basic calculator function on two number\n",
    "num1=float(input(\"enter first number : \"))\n",
    "num2=float(input(\"enter second number :\"))\n",
    "operation=input(\"Press '+' for addition | Press '-' for subtraction | Press '/' for division | Press '*' for multiplication \")\n",
    "\n",
    "if operation=='+':\n",
    "    print(f\"Result : {num1}+{num2}= {num1+num2}\")\n",
    "elif operation=='-':\n",
    "    print(f\"Result : {num1}-{num2}= {num1-num2}\")\n",
    "elif operation=='*':\n",
    "    print(f\"Result : {num1}*{num2}= {num1*num2}\")\n",
    "elif operation=='/':\n",
    "    print(f\"Result : {num1}/{num2}= {num1/num2}\")\n",
    "else:\n",
    "    print(\"Invalid input\")"
   ]
  },
  {
   "cell_type": "markdown",
   "id": "10b2f347-7858-417d-a874-9575c628c469",
   "metadata": {},
   "source": [
    "20. Write a program that determines the roots of a cubic equation using the Cardano formula."
   ]
  },
  {
   "cell_type": "markdown",
   "id": "144e4815-f564-41b1-a8ce-32aec04cc010",
   "metadata": {},
   "source": [
    "# Advanced Level:"
   ]
  },
  {
   "cell_type": "markdown",
   "id": "ce7cb81d-c96e-4b5e-8bbd-a182cbbba56e",
   "metadata": {},
   "source": [
    "21. Create a program that calculates the income tax based on the user's income and tax brackets."
   ]
  },
  {
   "cell_type": "code",
   "execution_count": 26,
   "id": "7f567650-f7ef-42a8-bae1-3858e996cafc",
   "metadata": {},
   "outputs": [
    {
     "name": "stdin",
     "output_type": "stream",
     "text": [
      "Enter your income :  1200023\n"
     ]
    },
    {
     "name": "stdout",
     "output_type": "stream",
     "text": [
      "You have to pay 20% tax = 240004.6\n"
     ]
    }
   ],
   "source": [
    "\n",
    "\n",
    "# taking income of a user\n",
    "income=int(input(\"Enter your income : \"))\n",
    "\n",
    "if income<=300000:\n",
    "    print(\"Not need to pay any tax\")\n",
    "elif 300001<=income<=600000:\n",
    "    print(f\"You have to pay 5% tax = {income*0.05}\")\n",
    "elif 600001<=income<=900000:\n",
    "    print(f\"You have to pay 10% tax = {income*0.1}\")\n",
    "elif 900001<=income<=1200000 :\n",
    "    print(f\"You have to pay 15% tax = {income*0.15}\")\n",
    "elif 1200001<=income<=1500000 :\n",
    "    print(f\"You have to pay 20% tax = {income*0.2}\")\n",
    "elif income>1500000:\n",
    "    print(f\"You have to pay 30% tax = {income*0.3}\")\n",
    "else:\n",
    "    print(\"Invalid input\")"
   ]
  },
  {
   "cell_type": "markdown",
   "id": "724b56de-57f7-484d-89fd-4dc8a9d85b21",
   "metadata": {},
   "source": [
    "22. Write a program that simulates a rock-paper-scissors game against the computer"
   ]
  },
  {
   "cell_type": "code",
   "execution_count": 30,
   "id": "4bd8a66d-07fd-42c3-a2da-2b1d56889ee1",
   "metadata": {},
   "outputs": [
    {
     "name": "stdin",
     "output_type": "stream",
     "text": [
      "Enter your choice (rock, paper, or scissors):  rock\n"
     ]
    },
    {
     "name": "stdout",
     "output_type": "stream",
     "text": [
      "You chose rock.\n",
      "Computer chose rock.\n",
      "It's a tie!\n"
     ]
    },
    {
     "name": "stdin",
     "output_type": "stream",
     "text": [
      "Do you want to play again? (yes/no):  no\n"
     ]
    }
   ],
   "source": [
    "import random\n",
    "\n",
    "# Function to get the user's choice\n",
    "def get_user_choice():\n",
    "    while True:\n",
    "        user_choice = input(\"Enter your choice (rock, paper, or scissors): \").lower()\n",
    "        if user_choice in [\"rock\", \"paper\", \"scissors\"]:\n",
    "            return user_choice\n",
    "        else:\n",
    "            print(\"Invalid choice. Please choose rock, paper, or scissors.\")\n",
    "\n",
    "# Function to get the computer's choice\n",
    "def get_computer_choice():\n",
    "    return random.choice([\"rock\", \"paper\", \"scissors\"])\n",
    "\n",
    "# Function to determine the winner\n",
    "def determine_winner(user_choice, computer_choice):\n",
    "    if user_choice == computer_choice:\n",
    "        return \"It's a tie!\"\n",
    "    elif (user_choice == \"rock\" and computer_choice == \"scissors\") or \\\n",
    "         (user_choice == \"paper\" and computer_choice == \"rock\") or \\\n",
    "         (user_choice == \"scissors\" and computer_choice == \"paper\"):\n",
    "        return \"You win!\"\n",
    "    else:\n",
    "        return \"Computer wins!\"\n",
    "\n",
    "# Main game loop\n",
    "while True:\n",
    "    user_choice = get_user_choice()\n",
    "    computer_choice = get_computer_choice()\n",
    "\n",
    "    print(f\"You chose {user_choice}.\")\n",
    "    print(f\"Computer chose {computer_choice}.\")\n",
    "\n",
    "    result = determine_winner(user_choice, computer_choice)\n",
    "    print(result)\n",
    "\n",
    "    play_again = input(\"Do you want to play again? (yes/no): \").lower()\n",
    "    if play_again != \"yes\":\n",
    "        break\n"
   ]
  },
  {
   "cell_type": "markdown",
   "id": "d6e930bf-b35d-4ad3-ba2c-a1fc942403ed",
   "metadata": {},
   "source": [
    "23. Develop a program that generates a random password based on user preferences (length, complexity)."
   ]
  },
  {
   "cell_type": "code",
   "execution_count": 48,
   "id": "28b57962-3615-4235-8720-1a9aacb371e8",
   "metadata": {},
   "outputs": [
    {
     "name": "stdin",
     "output_type": "stream",
     "text": [
      "Enter desired lenght of password 10\n",
      "Do you want to use upper case letter yes/no yes\n",
      "Do you want to use digit yes/no yes\n",
      "Do you want to use special characters yes/no no\n"
     ]
    },
    {
     "name": "stdout",
     "output_type": "stream",
     "text": [
      "Generated Password :  tjp5HZ7ceE\n"
     ]
    }
   ],
   "source": [
    "import string\n",
    "import random\n",
    "\n",
    "#task-1 : taking input from the user for lower case,upper case,digit,special character and lenght of the password.\n",
    "#task-2 : create a function to generate password\n",
    "\n",
    "\n",
    "def gen_password(length,use_upper,use_digit,use_special_char):\n",
    "    chars=string.ascii_lowercase\n",
    "    \n",
    "    if use_upper:\n",
    "        chars+=string.ascii_uppercase\n",
    "    if use_digit:\n",
    "        chars+=string.digits\n",
    "    if use_special_char:\n",
    "        chars+=string.punctuation\n",
    "    if length<1:\n",
    "        return \"password should have atleast 1 character\"\n",
    "    \n",
    "    password=\"\".join(random.choice(chars) for _ in range(length))\n",
    "    return password\n",
    "\n",
    "length=int(input(\"Enter desired lenght of password\"))\n",
    "use_upper=input(\"Do you want to use upper case letter yes/no\").lower()=='yes'\n",
    "use_digit=input(\"Do you want to use digit yes/no\").lower()=='yes'\n",
    "use_special_char=input(\"Do you want to use special characters yes/no\").lower()=='yes'\n",
    "\n",
    "password=gen_password(length,use_upper,use_digit,use_special_char)\n",
    "print(\"Generated Password : \",password)"
   ]
  },
  {
   "cell_type": "markdown",
   "id": "0749924f-88ab-40b9-b085-886e9fd8ec28",
   "metadata": {
    "tags": []
   },
   "source": [
    "# pending"
   ]
  },
  {
   "cell_type": "markdown",
   "id": "75d65ec3-9f4f-4859-8e09-56583b9164e0",
   "metadata": {},
   "source": [
    "\n",
    "24. Create a program that implements a simple text-based adventure game with branching scenarios.\n",
    "25. Build a program that solves a linear equation  for x, considering different cases.\n",
    "\n",
    "26. Write a program that simulates a basic quiz game with multiple-choice questions and scoring.\n",
    "\n",
    "27. Develop a program that determines whether a given year is a prime number or not.\n",
    "\n",
    "28. Create a program that sorts three numbers in ascending order using conditional statements.\n",
    "\n",
    "29. Build a program that determines the roots of a quartic equation using numerical methods.\n",
    "\n",
    "30. Write a program that calculates the BMI (Body Mass Index) and provides health recommendations based\n",
    "on the user's input.\n",
    "\n",
    " \n",
    "\n",
    "Challenge Level:\n",
    "\n",
    " \n",
    "\n",
    "31. Create a program that validates a password based on complexity rules (length, characters, etc.).\n",
    "\n",
    "32. Develop a program that performs matrix addition and subtraction based on user input.\n",
    "\n",
    "33. Write a program that calculates the greatest common divisor (GCD) of two numbers using the Euclidean\n",
    "algorithm.\n",
    "\n",
    "34. Build a program that performs matrix multiplication using nested loops and conditional statements.\n",
    "\n",
    "35. Create a program that simulates a basic text-based tic-tac-toe game against the computer.\n",
    "\n",
    "36. Write a program that generates Fibonacci numbers up to a specified term using iterative methods.\n",
    "\n",
    "37. Develop a program that calculates the nth term of the Fibonacci sequence using memoization.\n",
    "\n",
    "38. Create a program that generates a calendar for a given month and year using conditional statements.\n",
    "\n",
    "39. Build a program that simulates a basic text-based blackjack game against the computer.\n",
    "\n",
    "40. Write a program that generates the prime factors of a given number using trial division."
   ]
  },
  {
   "cell_type": "code",
   "execution_count": null,
   "id": "04cccb2a-a0c9-44df-be31-cb49a483eef5",
   "metadata": {},
   "outputs": [],
   "source": []
  }
 ],
 "metadata": {
  "kernelspec": {
   "display_name": "Python 3 (ipykernel)",
   "language": "python",
   "name": "python3"
  },
  "language_info": {
   "codemirror_mode": {
    "name": "ipython",
    "version": 3
   },
   "file_extension": ".py",
   "mimetype": "text/x-python",
   "name": "python",
   "nbconvert_exporter": "python",
   "pygments_lexer": "ipython3",
   "version": "3.10.8"
  }
 },
 "nbformat": 4,
 "nbformat_minor": 5
}
