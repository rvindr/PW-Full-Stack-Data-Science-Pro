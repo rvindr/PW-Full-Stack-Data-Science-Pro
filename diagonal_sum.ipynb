{
 "cells": [
  {
   "cell_type": "markdown",
   "id": "e4bf3cbe-13c7-4719-bdae-05d05dee69a2",
   "metadata": {},
   "source": [
    "### Find the sum of primary and secondary diagonal elements"
   ]
  },
  {
   "cell_type": "code",
   "execution_count": 3,
   "id": "967b3e82-fd6a-40e8-adb2-cb5968315294",
   "metadata": {},
   "outputs": [
    {
     "name": "stdout",
     "output_type": "stream",
     "text": [
      "(10, 18)\n"
     ]
    }
   ],
   "source": [
    "#defining function\n",
    "def summation(arr):\n",
    "    primary_total_sum=0\n",
    "    secondary_total_sum=0\n",
    "    length=len(arr)\n",
    "    \n",
    "    for i in range(length):\n",
    "        for j in range(length):\n",
    "            if i==j:\n",
    "                primary_total_sum+=arr[i][j]\n",
    "            if i+j==length-1:\n",
    "                secondary_total_sum+=arr[i][j]\n",
    "                \n",
    "    return primary_total_sum,secondary_total_sum\n",
    "\n",
    "            \n",
    "\n",
    "\n",
    "#driver code \n",
    "arr=[[1,6,3],[2,7,6],[8,1,2]]\n",
    "print(summation(arr))"
   ]
  },
  {
   "cell_type": "code",
   "execution_count": null,
   "id": "54015c73-72fa-41e6-82aa-829c9c161242",
   "metadata": {},
   "outputs": [],
   "source": []
  }
 ],
 "metadata": {
  "kernelspec": {
   "display_name": "Python 3 (ipykernel)",
   "language": "python",
   "name": "python3"
  },
  "language_info": {
   "codemirror_mode": {
    "name": "ipython",
    "version": 3
   },
   "file_extension": ".py",
   "mimetype": "text/x-python",
   "name": "python",
   "nbconvert_exporter": "python",
   "pygments_lexer": "ipython3",
   "version": "3.10.8"
  }
 },
 "nbformat": 4,
 "nbformat_minor": 5
}
