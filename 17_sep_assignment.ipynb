{
 "cells": [
  {
   "cell_type": "markdown",
   "id": "addf2e6d-7b78-4f66-8842-0ca453baf3c2",
   "metadata": {
    "jp-MarkdownHeadingCollapsed": true,
    "tags": []
   },
   "source": [
    "# for loop"
   ]
  },
  {
   "cell_type": "markdown",
   "id": "6f89b00e-436c-4fb6-aad7-d53cebed9242",
   "metadata": {},
   "source": [
    "1. Write a Python program to print numbers from 1 to 10 using a for loop."
   ]
  },
  {
   "cell_type": "code",
   "execution_count": 1,
   "id": "fe7c1e27-fd49-452c-8d65-0ac138d87c4b",
   "metadata": {},
   "outputs": [
    {
     "name": "stdout",
     "output_type": "stream",
     "text": [
      "1\n",
      "2\n",
      "3\n",
      "4\n",
      "5\n",
      "6\n",
      "7\n",
      "8\n",
      "9\n",
      "10\n"
     ]
    }
   ],
   "source": [
    "for i in range(1,11):\n",
    "    print(i)"
   ]
  },
  {
   "cell_type": "markdown",
   "id": "11bde845-7c1b-4a87-905b-23656081d7ae",
   "metadata": {},
   "source": [
    "2. Explain the difference between a for loop and a while loop in Python."
   ]
  },
  {
   "cell_type": "markdown",
   "id": "96491b97-0455-4405-857e-21a938a8d6e3",
   "metadata": {},
   "source": [
    "- `For` loop is used to iterate over a sequence and `while` loop is used for repeatdly execute a block until while condition is true.\n",
    "- For loop is useful when we know in advance how many times we want the loop to run and it allows us to create loops with an unknown or variable number of iterations."
   ]
  },
  {
   "cell_type": "markdown",
   "id": "2808970f-c48e-452b-a8a9-fae913eff4e2",
   "metadata": {},
   "source": [
    "3. Write a Python program to calculate the sum of all numbers from 1 to 100 using a for loop."
   ]
  },
  {
   "cell_type": "code",
   "execution_count": 2,
   "id": "8cc60db8-61fa-4d3e-b3e8-c9641942d1a7",
   "metadata": {},
   "outputs": [
    {
     "name": "stdout",
     "output_type": "stream",
     "text": [
      "sum of all numbers from 1 to 100 :  5050\n"
     ]
    }
   ],
   "source": [
    "# Initialize total_sum=0\n",
    "total_sum=0\n",
    "for i in range(1,101):\n",
    "    total_sum+=i\n",
    "    \n",
    "#display result\n",
    "print(\"sum of all numbers from 1 to 100 : \",total_sum)"
   ]
  },
  {
   "cell_type": "markdown",
   "id": "30a7c109-739b-4917-9b07-9d9a568be27b",
   "metadata": {},
   "source": [
    "4. How do you iterate through a list using a for loop in Python?\n",
    "> To iterate through a list using for loop we have options such a \n",
    "- for variable in List:\n",
    "    #statement\n",
    "    \n",
    "- for variable in range(len(list)):\n",
    "    #statement\n"
   ]
  },
  {
   "cell_type": "code",
   "execution_count": 3,
   "id": "f355fb97-7678-4399-90f0-6fabe10f1fee",
   "metadata": {},
   "outputs": [
    {
     "name": "stdout",
     "output_type": "stream",
     "text": [
      "1\n",
      "2\n",
      "3\n",
      "4\n",
      "5\n"
     ]
    }
   ],
   "source": [
    "li=[1,2,3,4,5]\n",
    "\n",
    "#method 1\n",
    "for i in li:\n",
    "    print(i)"
   ]
  },
  {
   "cell_type": "code",
   "execution_count": 5,
   "id": "589bdd58-d6be-4519-96be-2216555bfdc0",
   "metadata": {},
   "outputs": [
    {
     "name": "stdout",
     "output_type": "stream",
     "text": [
      "1\n",
      "2\n",
      "3\n",
      "4\n",
      "5\n"
     ]
    }
   ],
   "source": [
    "#method2\n",
    "for i in range(len(li)):\n",
    "    print(li[i])"
   ]
  },
  {
   "cell_type": "markdown",
   "id": "06ae95d7-6959-40fd-bef7-05ca6bb2c9f1",
   "metadata": {},
   "source": [
    "5. Write a Python program to find the product of all elements in a list using a for loop"
   ]
  },
  {
   "cell_type": "code",
   "execution_count": 6,
   "id": "a83d13ad-63b6-46ca-ba81-fb34aba5b37a",
   "metadata": {},
   "outputs": [
    {
     "name": "stdout",
     "output_type": "stream",
     "text": [
      "The product of all elements :  120\n"
     ]
    }
   ],
   "source": [
    "li=[1,2,3,4,5]\n",
    "# Initialize product\n",
    "product=1\n",
    "\n",
    "for i in li:\n",
    "    product*=i\n",
    "    \n",
    "#display result\n",
    "print(\"The product of all elements : \",product)\n",
    "\n"
   ]
  },
  {
   "cell_type": "markdown",
   "id": "718fd16a-b360-4829-bc2a-d794d5fc0d26",
   "metadata": {},
   "source": [
    "6. Create a Python program that prints all even numbers from 1 to 20 using a for loop."
   ]
  },
  {
   "cell_type": "code",
   "execution_count": 7,
   "id": "2f6150cb-de1d-4acd-adb7-52003b1d0b02",
   "metadata": {},
   "outputs": [
    {
     "name": "stdout",
     "output_type": "stream",
     "text": [
      "2 4 6 8 10 12 14 16 18 20 "
     ]
    }
   ],
   "source": [
    "for i in range(1,21):\n",
    "    if i%2==0:\n",
    "        print(i,end=\" \")"
   ]
  },
  {
   "cell_type": "markdown",
   "id": "04516010-df80-4ab4-95cb-77eb3327b5a8",
   "metadata": {},
   "source": [
    "7. Write a Python program that calculates the factorial of a number using a for loop."
   ]
  },
  {
   "cell_type": "code",
   "execution_count": 9,
   "id": "8fc4e79d-faad-484d-8377-88bd273211e9",
   "metadata": {},
   "outputs": [
    {
     "name": "stdin",
     "output_type": "stream",
     "text": [
      "Enter number:  7\n"
     ]
    },
    {
     "name": "stdout",
     "output_type": "stream",
     "text": [
      "Factorial of 7! is 5040\n"
     ]
    }
   ],
   "source": [
    "# Taking input from the user\n",
    "fact_num = int(input(\"Enter number: \"))\n",
    "\n",
    "# Initialize the factorial variable\n",
    "factorial = 1\n",
    "\n",
    "# Check if the input is 0\n",
    "if fact_num == 0:\n",
    "    pass  # Factorial of 0 is 1\n",
    "else:\n",
    "    # Calculate the factorial using a for loop\n",
    "    for i in range(1, fact_num + 1):\n",
    "        factorial *= i\n",
    "\n",
    "# Display the result\n",
    "print(f\"Factorial of {fact_num}! is {factorial}\")\n"
   ]
  },
  {
   "cell_type": "markdown",
   "id": "0899521f-a3ed-42f0-beb5-cb0dbe459ae9",
   "metadata": {},
   "source": [
    "8. How can you iterate through the characters of a string using a for loop in Python?"
   ]
  },
  {
   "cell_type": "code",
   "execution_count": 12,
   "id": "61b37b7a-2aa4-47ff-b54d-d0f8c0b9200f",
   "metadata": {},
   "outputs": [
    {
     "name": "stdout",
     "output_type": "stream",
     "text": [
      "r\n",
      "a\n",
      "v\n",
      "i\n",
      "n\n",
      "d\n",
      "e\n",
      "r\n"
     ]
    }
   ],
   "source": [
    "string = 'ravinder'\n",
    "\n",
    "for i in range(len(string)):\n",
    "    # Access and print the characters of the string\n",
    "    print(string[i])\n"
   ]
  },
  {
   "cell_type": "markdown",
   "id": "46b1db7b-d15a-4de7-af8d-e2b48d1cb9f5",
   "metadata": {},
   "source": [
    "9. Write a Python program to find the largest number in a list using a for loop."
   ]
  },
  {
   "cell_type": "code",
   "execution_count": 15,
   "id": "9abf8dd3-37e7-4d51-880a-14c83397d5a6",
   "metadata": {},
   "outputs": [
    {
     "name": "stdout",
     "output_type": "stream",
     "text": [
      "Largest value: 84\n"
     ]
    }
   ],
   "source": [
    "li = [13, 4, 41, 35, 74, 84, 31, 44]\n",
    "\n",
    "# Initialize 'largest' to negative infinity\n",
    "largest = float('-inf')\n",
    "\n",
    "# Iterate through the list\n",
    "for i in li:\n",
    "    # Update 'largest' if a larger value is found\n",
    "    if largest < i:\n",
    "        largest = i\n",
    "\n",
    "# Display the result\n",
    "print(\"Largest value:\", largest)\n"
   ]
  },
  {
   "cell_type": "markdown",
   "id": "d4dce40b-58b3-4624-8001-4fdcd8af0a87",
   "metadata": {},
   "source": [
    "10. Create a Python program that prints the Fibonacci sequence up to a specified limit using a for\n",
    "loop."
   ]
  },
  {
   "cell_type": "code",
   "execution_count": 4,
   "id": "7ed52b30-e229-4dec-b1ad-ecc398e848a2",
   "metadata": {},
   "outputs": [
    {
     "name": "stdin",
     "output_type": "stream",
     "text": [
      "Enter number:  9\n"
     ]
    },
    {
     "name": "stdout",
     "output_type": "stream",
     "text": [
      "0 1 1 2 3 5 8 "
     ]
    }
   ],
   "source": [
    "# Taking input from the user\n",
    "step = int(input(\"Enter number: \"))\n",
    "\n",
    "# Initialize the first two Fibonacci numbers\n",
    "a,b=0,1\n",
    "\n",
    "# Use a 'for' loop to generate and print the sequence\n",
    "for i in range(3,step+1):\n",
    "    print(a,end=\" \")    \n",
    "    a,b=b,a+b\n"
   ]
  },
  {
   "cell_type": "markdown",
   "id": "6bb6ca73-435e-41ce-948f-64ebe4c86e0e",
   "metadata": {},
   "source": [
    "11. Write a Python program to count the number of vowels in a given string using a for loop."
   ]
  },
  {
   "cell_type": "code",
   "execution_count": 5,
   "id": "633a4431-29e5-40d4-98ba-67b442e46e51",
   "metadata": {},
   "outputs": [
    {
     "name": "stdin",
     "output_type": "stream",
     "text": [
      "Enter a string :  my name is ravinder\n"
     ]
    },
    {
     "name": "stdout",
     "output_type": "stream",
     "text": [
      "The vowels in string are 6\n"
     ]
    }
   ],
   "source": [
    "#taking input from the user\n",
    "str1=input(\"Enter a string : \")\n",
    "str1=str1.lower()\n",
    "\n",
    "count=0\n",
    "for i in str1:\n",
    "    if i==\"a\" or i==\"e\" or i==\"i\" or i==\"o\" or i==\"u\":\n",
    "        count+=1\n",
    "print(f\"The vowels in string are {count}\")\n"
   ]
  },
  {
   "cell_type": "markdown",
   "id": "e2b92486-21d9-460f-8c8e-0ee895ba7d68",
   "metadata": {},
   "source": [
    "12. Create a Python program that generates a multiplication table for a given number using a for\n",
    "loop."
   ]
  },
  {
   "cell_type": "code",
   "execution_count": 6,
   "id": "14c1cb7c-04ef-4159-85ab-a93bd7ce858b",
   "metadata": {},
   "outputs": [
    {
     "name": "stdin",
     "output_type": "stream",
     "text": [
      "Enter a number:  2\n"
     ]
    },
    {
     "name": "stdout",
     "output_type": "stream",
     "text": [
      "2 * 1 = 2\n",
      "2 * 2 = 4\n",
      "2 * 3 = 6\n",
      "2 * 4 = 8\n",
      "2 * 5 = 10\n",
      "2 * 6 = 12\n",
      "2 * 7 = 14\n",
      "2 * 8 = 16\n",
      "2 * 9 = 18\n",
      "2 * 10 = 20\n"
     ]
    }
   ],
   "source": [
    "# Input: Take the number from the user\n",
    "num = int(input(\"Enter a number: \"))\n",
    "\n",
    "#calculate \n",
    "for i in range(1,11):\n",
    "    print(f\"{num} * {i} = {num*i}\")"
   ]
  },
  {
   "cell_type": "markdown",
   "id": "6fa2fe7b-3da6-4f25-abec-f71754721430",
   "metadata": {},
   "source": [
    "13. Write a Python program to reverse a list using a for loop."
   ]
  },
  {
   "cell_type": "code",
   "execution_count": 7,
   "id": "fe225496-9e3b-452d-b7f2-3400367c5804",
   "metadata": {},
   "outputs": [
    {
     "name": "stdout",
     "output_type": "stream",
     "text": [
      "Original List: [1, 2, 3, 4, 5]\n",
      "Reversed List: [5, 4, 3, 2, 1]\n"
     ]
    }
   ],
   "source": [
    "original_list = [1, 2, 3, 4, 5]\n",
    "reversed_list = []\n",
    "\n",
    "for item in original_list:\n",
    "    reversed_list.insert(0, item)\n",
    "\n",
    "print(\"Original List:\", original_list)\n",
    "print(\"Reversed List:\", reversed_list)\n"
   ]
  },
  {
   "cell_type": "markdown",
   "id": "0a169821-8659-490f-918e-20a504724861",
   "metadata": {},
   "source": [
    "li1 = [1, 2, 3, 4, 3, 5]\n",
    "li2 = [6, 6, 7, 8, 3, 9, 4]\n",
    "\n",
    "common_elements = []\n",
    "\n",
    "for num in li1:\n",
    "    if num in li2:\n",
    "        common_elements.append(num)\n",
    "\n",
    "print(\"Common elements:\", common_elements)\n",
    "14. Write a Python program to find the common elements between two lists using a for loop."
   ]
  },
  {
   "cell_type": "code",
   "execution_count": 10,
   "id": "2ea16fd3-9614-4c76-adad-a2e3fd65e8fd",
   "metadata": {},
   "outputs": [
    {
     "name": "stdout",
     "output_type": "stream",
     "text": [
      "Common elements: [3, 4, 3]\n"
     ]
    }
   ],
   "source": [
    "# li1=[1,2,3,4,3,5]\n",
    "# li2=[6,6,7,8,3,9,4]\n",
    "\n",
    "# #removing duplicate value in a list\n",
    "# li1=set(li1)\n",
    "# li2=set(li2)\n",
    "\n",
    "# for num in li1:\n",
    "#     if num in li2:\n",
    "#         print(num,end=\" \")\n",
    "li1 = [1, 2, 3, 4, 3, 5]\n",
    "li2 = [6, 6, 7, 8, 3, 9, 4]\n",
    "\n",
    "common_elements = []\n",
    "\n",
    "for num in li1:\n",
    "    if num in li2:\n",
    "        common_elements.append(num)\n",
    "\n",
    "print(\"Common elements:\", common_elements)\n"
   ]
  },
  {
   "cell_type": "markdown",
   "id": "1f79c682-0188-4059-a1c2-4f1639639bed",
   "metadata": {},
   "source": [
    "15. Explain how to use a for loop to iterate through the keys and values of a dictionary in Python15. Explain how to use a for loop to iterate through the keys and values of a dictionary in Python\n",
    "> This is commonly done using the .items() method, which returns an iterable sequence of key-value pairs as tuples."
   ]
  },
  {
   "cell_type": "code",
   "execution_count": 13,
   "id": "c66b79ff-7caf-4769-9fa8-e9398fa08848",
   "metadata": {},
   "outputs": [
    {
     "name": "stdout",
     "output_type": "stream",
     "text": [
      "Key : name, Value : John\n",
      "Key : age, Value : 30\n",
      "Key : city, Value : New York\n",
      "Key : country, Value : USA\n",
      "Key : email, Value : john@example.com\n"
     ]
    }
   ],
   "source": [
    "sample_dict = {\n",
    "    \"name\": \"John\",\n",
    "    \"age\": 30,\n",
    "    \"city\": \"New York\",\n",
    "    \"country\": \"USA\",\n",
    "    \"email\": \"john@example.com\",\n",
    "}\n",
    "\n",
    "for keys,values in sample_dict.items():\n",
    "    print(f\"Key : {keys}, Value : {values}\")"
   ]
  },
  {
   "cell_type": "markdown",
   "id": "b01c1204-a004-4fd4-a0ab-d21925a5267f",
   "metadata": {},
   "source": [
    "16. Write a Python program to find the GCD (Greatest Common Divisor) of two numbers using a for\n",
    "loop"
   ]
  },
  {
   "cell_type": "markdown",
   "id": "c3075643-8033-49c9-84df-637efb894da7",
   "metadata": {},
   "source": [
    "17. Create a Python program that checks if a string is a palindrome using a for loop."
   ]
  },
  {
   "cell_type": "markdown",
   "id": "5ff65fbd-7ce2-4810-9306-b0d806d7adc1",
   "metadata": {},
   "source": [
    "18. Write a Python program to remove duplicates from a list using a for loop."
   ]
  },
  {
   "cell_type": "code",
   "execution_count": 2,
   "id": "220551d8-fc42-456b-b69e-4e8b64f855d6",
   "metadata": {},
   "outputs": [
    {
     "name": "stdout",
     "output_type": "stream",
     "text": [
      "Original List: [1, 2, 3, 4, 4, 5, 6, 7, 7, 8]\n",
      "List with Duplicates Removed: [1, 2, 3, 4, 5, 6, 7, 8]\n"
     ]
    }
   ],
   "source": [
    "li = [1, 2, 3, 4, 4, 5, 6, 7, 7, 8]\n",
    "li1 = []  # Initialize an empty list to store unique values\n",
    "\n",
    "# Loop through the original list 'li'\n",
    "for i in li:\n",
    "    if i not in li1:  # Check if the current element is not already in 'li1'\n",
    "        li1.append(i)  # If not, append it to 'li1' to store unique values\n",
    "\n",
    "# Print the original list and the list with duplicate values removed\n",
    "print('Original List:', li)\n",
    "print('List with Duplicates Removed:', li1)\n"
   ]
  },
  {
   "cell_type": "markdown",
   "id": "b47e91f0-baee-4ad8-99c9-7cce5efab928",
   "metadata": {},
   "source": [
    "19. Create a Python program that counts the number of words in a sentence using a for loop"
   ]
  },
  {
   "cell_type": "code",
   "execution_count": 4,
   "id": "8f4f66e2-b2ca-4382-abcf-7d84ccc8f1b9",
   "metadata": {},
   "outputs": [
    {
     "name": "stdout",
     "output_type": "stream",
     "text": [
      "Word in given sentence :  10\n"
     ]
    }
   ],
   "source": [
    "sentence='This is sample sentence to count word in a sentence'\n",
    "\n",
    "#Initialize count\n",
    "count=0\n",
    "\n",
    "#iterate using for loop and count word\n",
    "for char in sentence:\n",
    "    if char==' ':\n",
    "        count+=1\n",
    "        \n",
    "#adding 1 to count for the last word\n",
    "count+=1\n",
    "\n",
    "#display result\n",
    "print(\"Word in given sentence : \",count)"
   ]
  },
  {
   "cell_type": "markdown",
   "id": "376ba1c4-5b92-4db0-b2f9-20f93b80b9a4",
   "metadata": {},
   "source": [
    "20. Write a Python program to find the sum of all odd numbers from 1 to 50 using a for loop."
   ]
  },
  {
   "cell_type": "code",
   "execution_count": 6,
   "id": "de5c6125-04db-466c-a199-861fe505173c",
   "metadata": {},
   "outputs": [
    {
     "name": "stdout",
     "output_type": "stream",
     "text": [
      "Sum of odd numbers from 1 to 50: 625\n"
     ]
    }
   ],
   "source": [
    "total_sum = 0  # Initialize a variable to store the sum of odd numbers\n",
    "\n",
    "# Loop through numbers from 1 to 50 using a 'for' loop\n",
    "for i in range(1, 51):\n",
    "    if i % 2 != 0:  # Check if the current number is odd (not divisible by 2)\n",
    "        total_sum += i  # If it's odd, add it to the 'total_sum'\n",
    "\n",
    "# Print the sum of odd numbers in the specified range\n",
    "print(\"Sum of odd numbers from 1 to 50:\", total_sum)\n"
   ]
  },
  {
   "cell_type": "markdown",
   "id": "7da4aa77-ee49-4217-ba1e-91de5cd6f0fd",
   "metadata": {},
   "source": [
    "# Map "
   ]
  },
  {
   "cell_type": "markdown",
   "id": "92fa9e2f-a46a-400b-808a-7566529194ff",
   "metadata": {},
   "source": [
    "1. Explain the purpose of the `map()` function in Python and provide an example of how it can be\n",
    "used to apply a function to each element of an iterable."
   ]
  },
  {
   "cell_type": "markdown",
   "id": "2c31d97c-4cc8-43b4-a0df-f6b56094fe6a",
   "metadata": {},
   "source": [
    "Map function is used when we want to apply same type of operation on the entire list elements. It apply given operation/function on each element of a list."
   ]
  },
  {
   "cell_type": "code",
   "execution_count": 11,
   "id": "703107e8-a9b8-461a-ae48-18e0cc309c8b",
   "metadata": {},
   "outputs": [
    {
     "name": "stdout",
     "output_type": "stream",
     "text": [
      "Original List :  [1, 2, 3, 4, 5, 6, 7, 8, 9, 10]\n",
      "Modified List :  [3, 4, 5, 6, 7, 8, 9, 10, 11, 12]\n"
     ]
    }
   ],
   "source": [
    "#let us suppose we want to add 2 to each element of a list.Then we can use for loop and \n",
    "# we have do it by using map() function\n",
    "li1=[1,2,3,4,5,6,7,8,9,10]\n",
    "add=list(map(lambda a:a+2,li1))\n",
    "\n",
    "print(\"Original List : \",li1)\n",
    "print(\"Modified List : \",add)"
   ]
  },
  {
   "cell_type": "markdown",
   "id": "cb80e3b2-2e3b-42e0-8a9e-35162e5ba1d1",
   "metadata": {},
   "source": [
    "2. Write a Python program that uses the `map()` function to square each element of a list of\n",
    "numbers."
   ]
  },
  {
   "cell_type": "code",
   "execution_count": 13,
   "id": "c06e4b5a-76c9-4133-b571-8ebba566345f",
   "metadata": {},
   "outputs": [
    {
     "name": "stdout",
     "output_type": "stream",
     "text": [
      "Original List: [1, 2, 3, 4, 5, 6, 7, 8, 9, 10]\n",
      "Modified List (Squared): [1, 4, 9, 16, 25, 36, 49, 64, 81, 100]\n"
     ]
    }
   ],
   "source": [
    "li1 = [1, 2, 3, 4, 5, 6, 7, 8, 9, 10]\n",
    "\n",
    "# Use the map function with a lambda function to square each element in li1\n",
    "square = list(map(lambda a: a**2, li1))\n",
    "\n",
    "print(\"Original List:\", li1)\n",
    "print(\"Modified List (Squared):\", square)\n"
   ]
  },
  {
   "cell_type": "markdown",
   "id": "b4e53f5c-1a09-4620-a9eb-2c452aff7215",
   "metadata": {},
   "source": [
    "3. How does the `map()` function differ from a list comprehension in Python, and when would you\n",
    "choose one over the other?"
   ]
  },
  {
   "cell_type": "markdown",
   "id": "f3bcb23c-9a4d-4373-8683-9e9457da327e",
   "metadata": {},
   "source": [
    "The `map()` function and list comprehensions in Python are both used for transforming data, but they have some differences in terms of syntax and use cases.\n",
    "\n",
    "1. **Syntax**:\n",
    "   - `map()` is a built-in function that takes a function and one or more iterable(s) as arguments. It applies the function to each element of the iterable(s) and returns an iterator.\n",
    "   - List comprehensions use a more compact and declarative syntax to create new lists by specifying the transformation and the source iterable(s) in square brackets.\n",
    "\n",
    "2. **Return Type**:\n",
    "   - `map()` returns an iterator, which can be converted into a list or another iterable using `list()`, `tuple()`, or other functions.\n",
    "   - List comprehensions directly return a new list.\n",
    "\n",
    "3. **Readability and Simplicity**:\n",
    "   - List comprehensions are often considered more readable and concise for simple transformations. They are especially useful when you want to generate a new list by applying a straightforward operation to each element.\n",
    "   - `map()` can be less readable for simple transformations because it involves defining a separate function and can make the code more verbose.\n",
    "\n",
    "4. **Functionality**:\n",
    "   - `map()` is more flexible when you need to apply a function to multiple iterables in parallel.\n",
    "   - List comprehensions are limited to transforming a single iterable, although you can nest them for more complex operations.\n",
    "\n",
    "5. **Performance**:\n",
    "   - In some cases, `map()` might have a slight performance advantage over list comprehensions due to its ability to apply the function in C code, especially when working with large datasets. However, this performance difference is often negligible.\n",
    "\n",
    "When to Choose One Over the Other:\n",
    "- Choose `map()` when you need to apply a function to multiple iterables in parallel, and you prefer to work with iterators.\n",
    "- Choose list comprehensions when you want to create a new list from a single iterable with a simple transformation, especially when readability and conciseness are important.\n",
    "\n",
    "In practice, the choice between `map()` and list comprehensions often depends on the specific use case and the readability of the code. For simple element-wise transformations on a single iterable, list comprehensions are generally preferred. However, for more complex operations or when dealing with multiple iterables, `map()` might be more suitable."
   ]
  },
  {
   "cell_type": "markdown",
   "id": "a0ebfb6c-3f97-4dfd-8026-b7e55e149e8b",
   "metadata": {},
   "source": [
    "4. Create a Python program that uses the `map()` function to convert a list of names to uppercase."
   ]
  },
  {
   "cell_type": "code",
   "execution_count": 19,
   "id": "d1159a37-f78f-4a53-bff5-3d0e7ad4225c",
   "metadata": {},
   "outputs": [
    {
     "name": "stdout",
     "output_type": "stream",
     "text": [
      "Names in uppercase: ['RAVI', 'MANISH', 'ROHIT', 'MOHIT']\n"
     ]
    }
   ],
   "source": [
    "# Define a list of names\n",
    "names = ['ravi', 'manish', 'rohit', 'mohit']\n",
    "\n",
    "# Use the map() function to create a new list of names in uppercase\n",
    "uc_names = list(map(lambda a: a.upper(), names))\n",
    "\n",
    "# Print the names in uppercase\n",
    "print(\"Names in uppercase:\", uc_names)\n"
   ]
  },
  {
   "cell_type": "markdown",
   "id": "a91e8ef0-87a0-4f16-8663-d3a3845902aa",
   "metadata": {},
   "source": [
    "5. Write a Python program that uses the `map()` function to calculate the length of each word in a\n",
    "list of strings."
   ]
  },
  {
   "cell_type": "code",
   "execution_count": 23,
   "id": "b552bbd4-a56d-4505-8d14-6e02e0d1fee6",
   "metadata": {},
   "outputs": [
    {
     "name": "stdout",
     "output_type": "stream",
     "text": [
      "Length List: [4, 6, 5, 5]\n"
     ]
    }
   ],
   "source": [
    "# Define a list of names\n",
    "names = ['ravi', 'manish', 'rohit', 'mohit']\n",
    "\n",
    "# Use the map() function to create a new list with the lengths of each name\n",
    "length = list(map(lambda a: len(a), names))\n",
    "\n",
    "# Print the list of name lengths\n",
    "print(\"Length List:\", length)\n"
   ]
  },
  {
   "cell_type": "markdown",
   "id": "c4646830-383f-4535-acb7-3b6e99eda7b6",
   "metadata": {},
   "source": [
    "6. How can you use the `map()` function to apply a custom function to elements of multiple lists\n",
    "simultaneously in Python?"
   ]
  },
  {
   "cell_type": "code",
   "execution_count": 26,
   "id": "3f531ce9-2557-4f4a-aae7-bfeba991ca2c",
   "metadata": {},
   "outputs": [
    {
     "name": "stdout",
     "output_type": "stream",
     "text": [
      "Full Name List :  ['ravi verma', 'manish verma', 'rohit goad', 'mohit goad']\n"
     ]
    }
   ],
   "source": [
    "first_name = ['ravi', 'manish', 'rohit', 'mohit']\n",
    "last_name = ['verma','verma','goad','goad']\n",
    "\n",
    "def full_name(a,b):\n",
    "    return a+\" \"+b\n",
    "\n",
    "full_name=list(map(full_name,first_name,last_name))\n",
    "\n",
    "print(\"Full Name List : \",full_name)"
   ]
  },
  {
   "cell_type": "markdown",
   "id": "6061dc4f-a789-400b-be3d-efb55a875a7e",
   "metadata": {},
   "source": [
    "7. Create a Python program that uses `map()` to convert a list of temperatures from Fahrenheit to Celsius."
   ]
  },
  {
   "cell_type": "code",
   "execution_count": 28,
   "id": "8972d79b-9f9f-460d-af61-3890f2ef9d3c",
   "metadata": {},
   "outputs": [
    {
     "name": "stdout",
     "output_type": "stream",
     "text": [
      "Fahrenheit Temperatures :  [32, 68, 77, 104, 212]\n",
      "Celsius Temperatures :  [0.0, 20.0, 25.0, 40.0, 100.0]\n"
     ]
    }
   ],
   "source": [
    "def fahrenheit_to_celsius(li):\n",
    "    celsius_temp=list(map(lambda a : (a - 32) * 5/9,fahrenheit_temperatures))\n",
    "    \n",
    "    return celsius_temp\n",
    "\n",
    "fahrenheit_temperatures = [32, 68, 77, 104, 212]\n",
    "celsius_temp=fahrenheit_to_celsius(fahrenheit_temperatures)\n",
    "\n",
    "print(\"Fahrenheit Temperatures : \",fahrenheit_temperatures)\n",
    "print(\"Celsius Temperatures : \",celsius_temp)"
   ]
  },
  {
   "cell_type": "markdown",
   "id": "72be39e1-aea3-4802-932c-99a160b903a1",
   "metadata": {},
   "source": [
    "8. Write a Python program that uses the `map()` function to round each element of a list of\n",
    "floating-point numbers to the nearest integer."
   ]
  },
  {
   "cell_type": "code",
   "execution_count": 29,
   "id": "f9935e09-66b2-4f73-b36f-27812a7db96c",
   "metadata": {},
   "outputs": [
    {
     "name": "stdout",
     "output_type": "stream",
     "text": [
      "Original Float Numbers: [3.14, 2.718, 1.618, 4.999]\n",
      "Rounded Numbers: [3, 3, 2, 5]\n"
     ]
    }
   ],
   "source": [
    "# Define a list of floating-point numbers\n",
    "float_numbers = [3.14, 2.718, 1.618, 4.999]\n",
    "\n",
    "# Use map() to apply the round() function to each element\n",
    "rounded_numbers = list(map(round, float_numbers))\n",
    "\n",
    "print(\"Original Float Numbers:\", float_numbers)\n",
    "print(\"Rounded Numbers:\", rounded_numbers)\n"
   ]
  },
  {
   "cell_type": "markdown",
   "id": "5cb43047-df6a-4150-98a8-3803ea3fd5d5",
   "metadata": {},
   "source": [
    "# reduce "
   ]
  },
  {
   "cell_type": "markdown",
   "id": "c7762f4a-d6f0-46f2-ac48-0dee61b8d934",
   "metadata": {},
   "source": [
    "1. What is the `reduce()` function in Python, and what module should you import to use it? Provide\n",
    "an example of its basic usage."
   ]
  },
  {
   "cell_type": "markdown",
   "id": "a056e34f-9bfa-47ef-a536-88fa3196f56c",
   "metadata": {},
   "source": [
    "The reduce(fun,seq) function is used to apply a particular function passed in its argument to all of the list elements mentioned in the sequence passed along.\n",
    "\n",
    "This function is defined in “functools” module. so we have to import this module\n",
    "- Syntax: `reduce(function, iter)` reduce function will take two arguments functiona and iterable mean list,tuple etc\n",
    "\n",
    "whenever we are looking for a final one single result then we can think about using reduce function."
   ]
  },
  {
   "cell_type": "code",
   "execution_count": 2,
   "id": "25dab980-965a-46c9-8550-c502efb02e3e",
   "metadata": {},
   "outputs": [],
   "source": [
    "from functools import reduce"
   ]
  },
  {
   "cell_type": "code",
   "execution_count": 4,
   "id": "af1ec2dd-885c-4e55-92d9-3ec73cfaeed0",
   "metadata": {},
   "outputs": [
    {
     "data": {
      "text/plain": [
       "42"
      ]
     },
     "execution_count": 4,
     "metadata": {},
     "output_type": "execute_result"
    }
   ],
   "source": [
    "#let us suppose we want multiplication of each element in a list .Then we have option to \n",
    "# choose reduce function\n",
    "\n",
    "li=[1,2,3,7]\n",
    "\n",
    "reduce(lambda a,b:a*b,li)"
   ]
  },
  {
   "cell_type": "markdown",
   "id": "1b8f61c5-5117-4fc9-9fa5-b536261c0fd1",
   "metadata": {},
   "source": [
    "2. Write a Python program that uses the `reduce()` function to find the product of all elements in a\n",
    "list."
   ]
  },
  {
   "cell_type": "code",
   "execution_count": 6,
   "id": "675c5d89-56e0-46d3-804e-5bd28ac5fb89",
   "metadata": {},
   "outputs": [
    {
     "name": "stdout",
     "output_type": "stream",
     "text": [
      "Cumulative Product: 42\n"
     ]
    }
   ],
   "source": [
    "from functools import reduce\n",
    "\n",
    "# Define a list of numbers\n",
    "li = [1, 2, 3, 7]\n",
    "\n",
    "# Use reduce() to apply a lambda function for multiplication cumulatively\n",
    "result = reduce(lambda a, b: a * b, li)\n",
    "\n",
    "# Print the result, which is the cumulative product of the list elements\n",
    "print(\"Cumulative Product:\", result)\n"
   ]
  },
  {
   "cell_type": "markdown",
   "id": "952b94d5-9e16-4cd4-af85-fb5c6fa217bf",
   "metadata": {},
   "source": [
    "3. Create a Python program that uses `reduce()` to find the maximum element in a list of numbers."
   ]
  },
  {
   "cell_type": "code",
   "execution_count": 10,
   "id": "08eaa2d8-a049-4ba9-95cd-07e315d0c9ba",
   "metadata": {},
   "outputs": [
    {
     "name": "stdout",
     "output_type": "stream",
     "text": [
      "Max value in the list: 7\n"
     ]
    }
   ],
   "source": [
    "from functools import reduce\n",
    "\n",
    "# Define a list of numbers\n",
    "li = [1, 2, 3, 7]\n",
    "\n",
    "# Use reduce() to find the maximum value in the list\n",
    "max_value = reduce(lambda a, b: a if a > b else b, li)\n",
    "\n",
    "# Print the maximum value in the list\n",
    "print(\"Max value in the list:\", max_value)\n"
   ]
  },
  {
   "cell_type": "markdown",
   "id": "3c4e4ee4-ec84-4762-9d24-3641c52fe24b",
   "metadata": {},
   "source": [
    "4. How can you use the `reduce()` function to concatenate a list of strings into a single string?"
   ]
  },
  {
   "cell_type": "code",
   "execution_count": 18,
   "id": "8577a55d-1e98-4cfc-8399-8ae73b79b143",
   "metadata": {},
   "outputs": [
    {
     "name": "stdout",
     "output_type": "stream",
     "text": [
      "this is sample\n"
     ]
    }
   ],
   "source": [
    "from functools import reduce\n",
    "\n",
    "# Define a list of strings\n",
    "li = ['this', 'is', 'sample']\n",
    "\n",
    "# Use reduce() to concatenate the strings with spaces in between\n",
    "full_string = reduce(lambda a, b: a + \" \" + b, li)\n",
    "\n",
    "# Print the concatenated string\n",
    "print(full_string)\n"
   ]
  },
  {
   "cell_type": "markdown",
   "id": "908a8de8-69e8-43cc-b67a-d9d1efacd691",
   "metadata": {},
   "source": [
    "5. Write a Python program that calculates the factorial of a number using the `reduce()` function."
   ]
  },
  {
   "cell_type": "code",
   "execution_count": 25,
   "id": "99713185-3066-4206-b994-d0dfd8746fa7",
   "metadata": {},
   "outputs": [
    {
     "name": "stdin",
     "output_type": "stream",
     "text": [
      "Enter a number:  9\n"
     ]
    },
    {
     "name": "stdout",
     "output_type": "stream",
     "text": [
      "9! = 362880\n"
     ]
    }
   ],
   "source": [
    "###### from functools import reduce\n",
    "\n",
    "# Define a function to calculate the factorial of a number\n",
    "def factorial(n):\n",
    "    return reduce(lambda x, y: x * y, range(1, n + 1), 1)\n",
    "\n",
    "# Input: Get the number from the user\n",
    "num = int(input(\"Enter a number: \"))\n",
    "\n",
    "# Calculate the factorial using the factorial function\n",
    "result = factorial(num)\n",
    "\n",
    "# Display the factorial\n",
    "print(f\"{num}! = {result}\")\n"
   ]
  },
  {
   "cell_type": "markdown",
   "id": "e1b2d092-f930-4a1b-a5e4-b9b28bf7cf2f",
   "metadata": {},
   "source": [
    "6. Create a Python program that uses `reduce()` to find the GCD (Greatest Common Divisor) of a list\n",
    "of numbers.\n",
    "7. Write a Python program that uses the `reduce()` function to find the sum of the digits of a given\n",
    "number."
   ]
  },
  {
   "cell_type": "code",
   "execution_count": 26,
   "id": "78ea3593-e0fd-4b6e-81e6-173c0c3aa324",
   "metadata": {},
   "outputs": [
    {
     "name": "stdin",
     "output_type": "stream",
     "text": [
      "Enter a number:  134324\n"
     ]
    },
    {
     "name": "stdout",
     "output_type": "stream",
     "text": [
      "The sum of the digits in 134324 is 17\n"
     ]
    }
   ],
   "source": [
    "from functools import reduce\n",
    "\n",
    "# Define a function to add two numbers\n",
    "def add(x, y):\n",
    "    return x + y\n",
    "\n",
    "# Input: Get the number from the user\n",
    "num = int(input(\"Enter a number: \"))\n",
    "\n",
    "# Convert the number to a string, split it into digits, and convert back to integers\n",
    "digits = [int(digit) for digit in str(num)]\n",
    "\n",
    "# Use the reduce() function to find the sum of the digits\n",
    "sum_of_digits = reduce(add, digits)\n",
    "\n",
    "# Display the result\n",
    "print(f\"The sum of the digits in {num} is {sum_of_digits}\")\n"
   ]
  },
  {
   "cell_type": "markdown",
   "id": "6def9ae9-fe07-485c-b5a1-462af88df453",
   "metadata": {},
   "source": [
    "# filter"
   ]
  },
  {
   "cell_type": "markdown",
   "id": "fc428804-0f23-4161-afaa-d06ec291b24c",
   "metadata": {},
   "source": [
    "1. Explain the purpose of the `filter()` function in Python and provide an example of how it can be\n",
    "used to filter elements from an iterable."
   ]
  },
  {
   "cell_type": "markdown",
   "id": "f93b7c38-6a68-47c1-bc52-3993cfca5580",
   "metadata": {},
   "source": [
    "> The filter() function returns an iterator where the items are filtered through a function to test if the item is accepted or not.\n",
    "\n",
    "Syntax: `filter(function or none, iterable)`"
   ]
  },
  {
   "cell_type": "code",
   "execution_count": 2,
   "id": "15804966-3f02-49c8-8a4d-e72836362083",
   "metadata": {},
   "outputs": [
    {
     "data": {
      "text/plain": [
       "[12, 18, 24, 32]"
      ]
     },
     "execution_count": 2,
     "metadata": {},
     "output_type": "execute_result"
    }
   ],
   "source": [
    "# find even number in a list\n",
    "li = [5, 12, 17, 18, 24, 32]\n",
    "list(filter(lambda a : a%2==0,li))"
   ]
  },
  {
   "cell_type": "markdown",
   "id": "d9665f16-fe5f-4bca-817a-9e075eed729f",
   "metadata": {},
   "source": [
    "2. Write a Python program that uses the `filter()` function to select even numbers from a list of\n",
    "integers."
   ]
  },
  {
   "cell_type": "code",
   "execution_count": 4,
   "id": "7a7246cf-79af-4ad6-8904-7b0c0efb80ff",
   "metadata": {},
   "outputs": [
    {
     "name": "stdout",
     "output_type": "stream",
     "text": [
      "Even numbers in the list: [12, 18, 24, 32]\n"
     ]
    }
   ],
   "source": [
    "# Find even numbers in a list\n",
    "li = [5, 12, 17, 18, 24, 32]\n",
    "\n",
    "# Use the filter() function to filter even numbers from the list\n",
    "even_numbers = list(filter(lambda a: a % 2 == 0, li))\n",
    "\n",
    "# Display the list of even numbers\n",
    "print(\"Even numbers in the list:\", even_numbers)\n"
   ]
  },
  {
   "cell_type": "markdown",
   "id": "16991810-134b-4cf6-b8db-0f7c244bc7e1",
   "metadata": {},
   "source": [
    "3. Create a Python program that uses the `filter()` function to select names that start with a specific\n",
    "letter from a list of strings."
   ]
  },
  {
   "cell_type": "code",
   "execution_count": 8,
   "id": "a704b8bd-630f-49ce-aa15-4af1d29ec6f8",
   "metadata": {},
   "outputs": [
    {
     "name": "stdout",
     "output_type": "stream",
     "text": [
      "Names that start with 'r': ['ravi', 'rohit']\n"
     ]
    }
   ],
   "source": [
    "# Filter names that start with the letter 'r'\n",
    "names = ['ravi', 'manish', 'rohit', 'mohit']\n",
    "\n",
    "# Use the filter() function and a lambda function to filter names that start with 'r'\n",
    "names_start_with_r = list(filter(lambda a: a[0] == 'r', names))\n",
    "\n",
    "# Display the list of names that start with 'r'\n",
    "print(\"Names that start with 'r':\", names_start_with_r)\n"
   ]
  },
  {
   "cell_type": "markdown",
   "id": "dd814f52-1d08-4c41-802b-b53821b21828",
   "metadata": {},
   "source": [
    "4. Write a Python program that uses the `filter()` function to select prime numbers from a list of\n",
    "integers"
   ]
  },
  {
   "cell_type": "code",
   "execution_count": 9,
   "id": "9c77ee53-e9f0-4135-961c-46c22b043289",
   "metadata": {},
   "outputs": [
    {
     "name": "stdout",
     "output_type": "stream",
     "text": [
      "Prime numbers in the list: [2, 3, 5, 7, 11, 13, 17, 19]\n"
     ]
    }
   ],
   "source": [
    "# Function to check if a number is prime\n",
    "def is_prime(num):\n",
    "    if num <= 1:\n",
    "        return False\n",
    "    for i in range(2, int(num**0.5) + 1):\n",
    "        if num % i == 0:\n",
    "            return False\n",
    "    return True\n",
    "\n",
    "# List of integers\n",
    "numbers = [2, 3, 5, 6, 7, 9, 11, 13, 17, 19, 20]\n",
    "\n",
    "# Use the filter() function to select prime numbers\n",
    "prime_numbers = list(filter(is_prime, numbers))\n",
    "\n",
    "# Display the list of prime numbers\n",
    "print(\"Prime numbers in the list:\", prime_numbers)\n"
   ]
  },
  {
   "cell_type": "markdown",
   "id": "9b0de231-3f5d-44cf-9e29-34ee7e9d04a1",
   "metadata": {},
   "source": [
    "5. How can you use the `filter()` function to remove None values from a list in Python?"
   ]
  },
  {
   "cell_type": "code",
   "execution_count": 15,
   "id": "e34879dd-5efe-471a-87ef-d3fa2a58af4b",
   "metadata": {},
   "outputs": [
    {
     "name": "stdout",
     "output_type": "stream",
     "text": [
      "Modified List: ['a', 'c', 'e', 'g']\n"
     ]
    }
   ],
   "source": [
    "char_list = ['a', None, 'c', None, 'e', None, 'g']\n",
    "\n",
    "# Use the filter() function with a lambda function to remove None values\n",
    "mod_list = list(filter(lambda a: a is not None, char_list))\n",
    "\n",
    "# Display the modified list\n",
    "print(\"Modified List:\", mod_list)\n"
   ]
  },
  {
   "cell_type": "markdown",
   "id": "aeeffb89-5021-49cc-b292-05ce07a0adf8",
   "metadata": {},
   "source": [
    "6. Create a Python program that uses `filter()` to select words longer than a certain length from a\n",
    "list of strings."
   ]
  },
  {
   "cell_type": "code",
   "execution_count": 3,
   "id": "12c98b92-6bd3-435f-bc2e-aae49c852bfa",
   "metadata": {},
   "outputs": [
    {
     "name": "stdout",
     "output_type": "stream",
     "text": [
      "Modified List: ['house', 'python', 'program', 'rainbow', 'example']\n"
     ]
    }
   ],
   "source": [
    "word_list = [\"at\", \"tree\", \"play\", \"house\", \"python\", \"program\", \"rainbow\", \"example\"]\n",
    "\n",
    "# In this case, we're filtering for words with a length greater than 4 characters.\n",
    "mod_list = list(filter(lambda a: len(a)>4, word_list))\n",
    "\n",
    "# Display the modified list\n",
    "print(\"Modified List:\", mod_list)\n"
   ]
  },
  {
   "cell_type": "markdown",
   "id": "7d7f5809-2089-4135-8407-bee2e062e0fe",
   "metadata": {},
   "source": [
    "7. Write a Python program that uses the `filter()` function to select elements greater than a\n",
    "specified threshold from a list of values."
   ]
  },
  {
   "cell_type": "code",
   "execution_count": 5,
   "id": "f1700581-4d7c-4149-81c3-1e98fea5d961",
   "metadata": {},
   "outputs": [
    {
     "name": "stdout",
     "output_type": "stream",
     "text": [
      "Modified List: [82, 62, 90, 97, 81]\n"
     ]
    }
   ],
   "source": [
    "num_list=[29, 50, 82, 62, 23, 50, 90, 46, 97, 81]\n",
    "\n",
    "\n",
    "# In this case, we're filtering for number  greater than 50.\n",
    "mod_list = list(filter(lambda a: a>50, num_list))\n",
    "\n",
    "# Display the modified list\n",
    "print(\"Modified List:\", mod_list)\n"
   ]
  },
  {
   "cell_type": "markdown",
   "id": "4c5dacaf-34ff-4e84-9b87-382162fb1f3d",
   "metadata": {},
   "source": [
    "# Recursion"
   ]
  },
  {
   "cell_type": "markdown",
   "id": "85e2da69-a2a9-4d81-949c-a32e21bc07f4",
   "metadata": {},
   "source": [
    "1. Explain the concept of recursion in Python. How does it differ from iteration?"
   ]
  },
  {
   "cell_type": "markdown",
   "id": "5bdc752f-f6f8-4540-80c0-610db4ed4495",
   "metadata": {},
   "source": [
    "> Recursion is calling function itself again and again until the task is done.\n",
    "\n",
    "Recursion is a technique in which the function calls itself in its body to solve the problem, typically breaking into smaller and more manageable sub-problems. In contrast, Iteration is a technique that repetitively executes a code block until the condition is unmet"
   ]
  },
  {
   "cell_type": "code",
   "execution_count": null,
   "id": "b1dbbc7d-150f-401a-b082-8676142819c4",
   "metadata": {},
   "outputs": [],
   "source": []
  },
  {
   "cell_type": "code",
   "execution_count": null,
   "id": "dbb45348-09d3-4773-b1ec-93144463f2fb",
   "metadata": {},
   "outputs": [],
   "source": []
  },
  {
   "cell_type": "code",
   "execution_count": null,
   "id": "92e6dd39-ead3-4fdb-b2a8-2743889a90bf",
   "metadata": {},
   "outputs": [],
   "source": []
  },
  {
   "cell_type": "code",
   "execution_count": null,
   "id": "a636b74e-aa79-4a37-ab4d-de98d4a421c6",
   "metadata": {},
   "outputs": [],
   "source": []
  },
  {
   "cell_type": "code",
   "execution_count": null,
   "id": "cf766764-e02b-417e-a1c5-28a4ed413e00",
   "metadata": {},
   "outputs": [],
   "source": []
  },
  {
   "cell_type": "code",
   "execution_count": null,
   "id": "fcd41ac3-4c25-4d3a-8b8a-4aaa4f6951a1",
   "metadata": {},
   "outputs": [],
   "source": []
  },
  {
   "cell_type": "code",
   "execution_count": null,
   "id": "98a59654-3d7d-4619-b68a-c035c39f0383",
   "metadata": {},
   "outputs": [],
   "source": []
  },
  {
   "cell_type": "code",
   "execution_count": null,
   "id": "460b62db-29c1-4367-bc12-3d2a3a547588",
   "metadata": {},
   "outputs": [],
   "source": []
  },
  {
   "cell_type": "code",
   "execution_count": null,
   "id": "713a1718-dd76-4702-9c9e-6250785a951c",
   "metadata": {},
   "outputs": [],
   "source": []
  },
  {
   "cell_type": "code",
   "execution_count": null,
   "id": "0b97253e-b5ac-4853-a6c5-3364b8f83972",
   "metadata": {},
   "outputs": [],
   "source": []
  },
  {
   "cell_type": "code",
   "execution_count": null,
   "id": "793fb09c-01a0-47bc-99f9-0d503badc724",
   "metadata": {},
   "outputs": [],
   "source": []
  },
  {
   "cell_type": "code",
   "execution_count": null,
   "id": "ef53776f-d4f5-43d2-b560-84392c74cb2b",
   "metadata": {},
   "outputs": [],
   "source": []
  },
  {
   "cell_type": "code",
   "execution_count": null,
   "id": "c31345f2-a93f-458e-bd9b-5e259b6cc959",
   "metadata": {},
   "outputs": [],
   "source": []
  },
  {
   "cell_type": "code",
   "execution_count": null,
   "id": "c043a27f-f83e-4d9e-8ae2-11a01f21a7e7",
   "metadata": {},
   "outputs": [],
   "source": []
  },
  {
   "cell_type": "code",
   "execution_count": null,
   "id": "2b2b52cb-028e-440a-867a-775ec98ed7ee",
   "metadata": {},
   "outputs": [],
   "source": []
  },
  {
   "cell_type": "code",
   "execution_count": null,
   "id": "94f09001-cdca-4022-93af-fc5119bca11b",
   "metadata": {},
   "outputs": [],
   "source": []
  },
  {
   "cell_type": "code",
   "execution_count": null,
   "id": "c19245d3-7ec9-49c7-a685-4e5a599d9faf",
   "metadata": {},
   "outputs": [],
   "source": []
  },
  {
   "cell_type": "markdown",
   "id": "461c41e5-9629-4f39-b770-5283aacbecbc",
   "metadata": {},
   "source": [
    "21. Write a Python program that checks if a given year is a leap year using a for loop.\n",
    "22. Create a Python program that calculates the square root of a number using a for loop.\n",
    "23. Write a Python program to find the LCM (Least Common Multiple) of two numbers using a for\n",
    "loop."
   ]
  },
  {
   "cell_type": "code",
   "execution_count": null,
   "id": "46822f4f-a52a-4cf3-b68c-acd73d4a112c",
   "metadata": {},
   "outputs": [],
   "source": []
  }
 ],
 "metadata": {
  "kernelspec": {
   "display_name": "Python 3 (ipykernel)",
   "language": "python",
   "name": "python3"
  },
  "language_info": {
   "codemirror_mode": {
    "name": "ipython",
    "version": 3
   },
   "file_extension": ".py",
   "mimetype": "text/x-python",
   "name": "python",
   "nbconvert_exporter": "python",
   "pygments_lexer": "ipython3",
   "version": "3.10.8"
  }
 },
 "nbformat": 4,
 "nbformat_minor": 5
}
