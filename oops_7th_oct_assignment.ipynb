{
 "cells": [
  {
   "cell_type": "markdown",
   "id": "d84cfbc1-c7f5-4b72-a712-ab67cdee316c",
   "metadata": {},
   "source": [
    "Problem 1: Bank Account Create a class representing a bank account with attributes like account number, account holder name, and balance. Implement methods to deposit and withdraw money from the account."
   ]
  },
  {
   "cell_type": "code",
   "execution_count": 17,
   "id": "54a72105-e184-4901-ae71-8aae340ce8c4",
   "metadata": {},
   "outputs": [],
   "source": [
    "import logging as log\n",
    "\n",
    "log.basicConfig(filename='oops.log', level=log.INFO, format='%(asctime)s - %(levelname)s -  %(message)s')\n",
    "\n",
    "class Bank:\n",
    "    def __init__(self, acc_no, name, balance):\n",
    "        log.info(\"Initialize account no, name, and balance\")\n",
    "        self.name = name\n",
    "        self.acc_no = acc_no\n",
    "        self.balance = balance\n",
    "\n",
    "    def deposit(self, amount):\n",
    "        log.info(\"Entering inside deposit function\")\n",
    "        try:\n",
    "            log.info(\"Entering inside try block and adding %d to balance\", amount)\n",
    "            self.balance += amount\n",
    "            log.info(\"Return updated balance %d\", self.balance)\n",
    "            return self.balance\n",
    "        except Exception as e:\n",
    "            log.error(\"Error occurred: %s\", str(e))\n",
    "            raise  # Raise an exception to handle it explicitly\n",
    "\n",
    "    def withdraw(self, amount):\n",
    "        log.info(\"Entering inside withdraw function\")\n",
    "        try:\n",
    "            if amount > self.balance or self.balance <= 0:\n",
    "                raise ValueError(\"Low Balance\")\n",
    "            else:\n",
    "                self.balance -= amount\n",
    "                return \"Withdraw successful, remaining balance\", self.balance\n",
    "        except Exception as e:\n",
    "            log.error(\"Error occurred: %s\", str(e))\n",
    "            raise  # Raise an exception to handle it explicitly\n",
    "\n",
    "# Create an object of the class\n",
    "ravi = Bank(1001, \"Ravi\", 20203)\n"
   ]
  },
  {
   "cell_type": "code",
   "execution_count": 18,
   "id": "a44d53cf-4fbb-4561-8484-b682f5d32f51",
   "metadata": {},
   "outputs": [
    {
     "data": {
      "text/plain": [
       "40403"
      ]
     },
     "execution_count": 18,
     "metadata": {},
     "output_type": "execute_result"
    }
   ],
   "source": [
    "ravi.deposit(20200)"
   ]
  },
  {
   "cell_type": "code",
   "execution_count": 19,
   "id": "4b8a5a69-25a0-45e4-96d3-337b0c8f9cd4",
   "metadata": {},
   "outputs": [
    {
     "data": {
      "text/plain": [
       "('Withdraw successful, remaining balance', 40200)"
      ]
     },
     "execution_count": 19,
     "metadata": {},
     "output_type": "execute_result"
    }
   ],
   "source": [
    "ravi.withdraw(203)"
   ]
  },
  {
   "cell_type": "markdown",
   "id": "6019b7b1-11d8-478f-8d87-b30bd1b45688",
   "metadata": {},
   "source": [
    "Problem 2: Employee Management Create a class representing an employee with attributes like employee ID, name, and salary. Implement methods to calculate the yearly bonus and display employee details."
   ]
  },
  {
   "cell_type": "code",
   "execution_count": 31,
   "id": "9f66fd49-7a41-4a1a-a7c6-d43f4cf5f266",
   "metadata": {},
   "outputs": [
    {
     "name": "stdout",
     "output_type": "stream",
     "text": [
      "Yearly Bonus: 6800.0\n",
      "Employee Name: Ravinder\n",
      "Employee ID: 1910\n",
      "Employee Salary: 85000\n"
     ]
    }
   ],
   "source": [
    "class emp_management:\n",
    "    \n",
    "    def __init__(self, emp_id, name, salary):\n",
    "        self.emp_id = emp_id\n",
    "        self.name = name\n",
    "        self.salary = salary\n",
    "        \n",
    "    def yearly_bonus(self, bonus_percentage):\n",
    "        try:\n",
    "            bonus = (bonus_percentage / 100) * self.salary\n",
    "            return bonus\n",
    "        except ZeroDivisionError:\n",
    "            print(\"Error: Bonus percentage cannot be zero.\")\n",
    "        except Exception as e:\n",
    "            print(\"An error occurred:\", str(e))\n",
    "        \n",
    "    def print_details(self):\n",
    "        print(\"Employee Name:\", self.name)\n",
    "        print(\"Employee ID:\", self.emp_id)\n",
    "        print(\"Employee Salary:\", self.salary)\n",
    "\n",
    "# Creating an object of the class\n",
    "emp1 = emp_management(1910, 'Ravinder', 85000)\n",
    "\n",
    "# Calculate the yearly bonus\n",
    "bonus = emp1.yearly_bonus(8)\n",
    "if bonus is not None:\n",
    "    print(\"Yearly Bonus:\", bonus)\n",
    "\n",
    "# Display employee details\n",
    "emp1.print_details()\n"
   ]
  },
  {
   "cell_type": "markdown",
   "id": "63339da3-5add-44db-b7e8-980314f1cea7",
   "metadata": {},
   "source": [
    "Problem 3: Vehicle Rental Create a class representing a vehicle rental system. Implement methods to rent a vehicle, return a vehicle, and display available vehicles."
   ]
  },
  {
   "cell_type": "code",
   "execution_count": 39,
   "id": "ce276944-f7b2-4e3d-bd3a-b31ec8ed7fac",
   "metadata": {},
   "outputs": [
    {
     "name": "stdout",
     "output_type": "stream",
     "text": [
      "You rented a car successfully.\n",
      "You rented a bike successfully.\n",
      "Available cars:  9\n",
      "Available bikes:  14\n",
      "Car returned.\n",
      "Available cars:  10\n",
      "Available bikes:  14\n"
     ]
    }
   ],
   "source": [
    "class RentVehicle:\n",
    "    def __init__(self):\n",
    "        self.total_cars = 10\n",
    "        self.total_bikes = 15\n",
    "\n",
    "    def rent_vehicle(self, vehicle_type):\n",
    "        if vehicle_type == 'car':\n",
    "            if self.total_cars > 0:\n",
    "                print(\"You rented a car successfully.\")\n",
    "                self.total_cars -= 1\n",
    "            else:\n",
    "                print(\"Cars are not available at this time.\")\n",
    "        elif vehicle_type == 'bike':\n",
    "            if self.total_bikes > 0:\n",
    "                print(\"You rented a bike successfully.\")\n",
    "                self.total_bikes -= 1\n",
    "            else:\n",
    "                print(\"Bikes are not available at this time.\")\n",
    "        else:\n",
    "            print(\"Invalid vehicle type.\")\n",
    "\n",
    "    def return_vehicle(self, vehicle_type):\n",
    "        if vehicle_type == 'car':\n",
    "            self.total_cars += 1\n",
    "            print(\"Car returned.\")\n",
    "        elif vehicle_type == 'bike':\n",
    "            self.total_bikes += 1\n",
    "            print(\"Bike returned.\")\n",
    "        else:\n",
    "            print(\"Invalid vehicle type.\")\n",
    "\n",
    "    def available_vehicles(self):\n",
    "        print(\"Available cars: \", self.total_cars)\n",
    "        print(\"Available bikes: \", self.total_bikes)\n",
    "\n",
    "# Create an object of the class\n",
    "rent = RentVehicle()\n",
    "\n",
    "# Examples of using the rental system:\n",
    "rent.rent_vehicle('car')\n",
    "rent.rent_vehicle('bike')\n",
    "rent.available_vehicles()\n",
    "rent.return_vehicle('car')\n",
    "rent.available_vehicles()\n"
   ]
  },
  {
   "cell_type": "code",
   "execution_count": null,
   "id": "ff0d72ba-f53d-448a-a950-3549868798ce",
   "metadata": {},
   "outputs": [],
   "source": [
    "# class Vehicle:\n",
    "#     def __init__(self, vehicle_id, make, model, year, is_available=True):\n",
    "#         self.vehicle_id = vehicle_id\n",
    "#         self.make = make\n",
    "#         self.model = model\n",
    "#         self.year = year\n",
    "#         self.is_available = is_available\n",
    "\n",
    "# class VehicleRentalSystem:\n",
    "#     def __init__(self):\n",
    "#         self.vehicles = []\n",
    "\n",
    "#     def add_vehicle(self, vehicle_id, make, model, year):\n",
    "#         vehicle = Vehicle(vehicle_id, make, model, year)\n",
    "#         self.vehicles.append(vehicle)\n",
    "\n",
    "#     def rent_vehicle(self, vehicle_id):\n",
    "#         for vehicle in self.vehicles:\n",
    "#             if vehicle.vehicle_id == vehicle_id and vehicle.is_available:\n",
    "#                 vehicle.is_available = False\n",
    "#                 return f\"Vehicle {vehicle_id} has been rented.\"\n",
    "#         return \"Vehicle not found or is already rented.\"\n",
    "\n",
    "#     def return_vehicle(self, vehicle_id):\n",
    "#         for vehicle in self.vehicles:\n",
    "#             if vehicle.vehicle_id == vehicle_id and not vehicle.is_available:\n",
    "#                 vehicle.is_available = True\n",
    "#                 return f\"Vehicle {vehicle_id} has been returned.\"\n",
    "#         return \"Vehicle not found or is already available.\"\n",
    "\n",
    "#     def display_available_vehicles(self):\n",
    "#         available_vehicles = [vehicle for vehicle in self.vehicles if vehicle.is_available]\n",
    "#         if available_vehicles:\n",
    "#             result = \"Available Vehicles:\\n\"\n",
    "#             for vehicle in available_vehicles:\n",
    "#                 result += f\"ID: {vehicle.vehicle_id}, Make: {vehicle.make}, Model: {vehicle.model}, Year: {vehicle.year}\\n\"\n",
    "#             return result\n",
    "#         else:\n",
    "#             return \"No vehicles are currently available.\"\n",
    "\n",
    "# # Example Usage:\n",
    "# rental_system = VehicleRentalSystem()\n",
    "# rental_system.add_vehicle(1, \"Toyota\", \"Camry\", 2022)\n",
    "# rental_system.add_vehicle(2, \"Honda\", \"Civic\", 2021)\n",
    "# rental_system.add_vehicle(3, \"Ford\", \"F-150\", 2020)\n",
    "\n",
    "# print(rental_system.rent_vehicle(1))  # Rent vehicle with ID 1\n",
    "# print(rental_system.display_available_vehicles())  # Display available vehicles\n",
    "# print(rental_system.return_vehicle(1))  # Return vehicle with ID 1\n",
    "# print(rental_system.display_available_vehicles())  # Display available vehicles after return\n"
   ]
  },
  {
   "cell_type": "markdown",
   "id": "5f15da59-8279-4486-8531-283243502389",
   "metadata": {},
   "source": [
    "Problem 4: Library Catalog Create classes representing a library and a book. Implement methods to add books to the library, borrow books, and display available books."
   ]
  },
  {
   "cell_type": "code",
   "execution_count": 132,
   "id": "666c1a46-df95-4019-ae8c-2e564392cc3e",
   "metadata": {},
   "outputs": [],
   "source": [
    "class Book:\n",
    "    def __init__(self, book_id, ISBN, title, author, is_available=True):\n",
    "        self.book_id=book_id\n",
    "        self.ISBN=ISBN\n",
    "        self.title=title\n",
    "        self.author=author\n",
    "        self.is_available=is_available\n",
    "        \n",
    "        \n",
    "class library:\n",
    "    def __init__(self):\n",
    "        self.books=[]\n",
    "        \n",
    "    def add_books(self, book_id, ISBN, title, author):\n",
    "        book=Book(book_id, ISBN, title, author)\n",
    "        self.books.append(book)\n",
    "        print(\"Book added successfully\")\n",
    "        \n",
    "    def borrow_book(self,book_id):\n",
    "        for book in self.books:\n",
    "            if book.book_id==book_id and book.is_available:\n",
    "                book.is_available=False\n",
    "                return f\"{book.title} book with id {book.book_id} rented\"\n",
    "        return \"Book not found or Book not available\"\n",
    "    \n",
    "    def return_book(self,book_id):\n",
    "        for book in self.books:\n",
    "            if book.book_id==book_id and not book.is_available:\n",
    "                book.is_available=True\n",
    "                return f\"{book.title} book with id {book.book_id} returned\"\n",
    "        return \"Book not found or Book already available with same book_id\"\n",
    "    \n",
    "    def availability(self):\n",
    "        for book in self.books:\n",
    "            if book.is_available:\n",
    "                print(f\"Book id : {book.book_id}, Title : {book.title}, Author : {book.author}\")\n",
    "            \n",
    "                \n",
    "a=library()"
   ]
  },
  {
   "cell_type": "code",
   "execution_count": 133,
   "id": "f77a2c8d-921f-43d6-a587-8e728a1485d4",
   "metadata": {},
   "outputs": [
    {
     "name": "stdout",
     "output_type": "stream",
     "text": [
      "Book added successfully\n",
      "Book added successfully\n",
      "Book added successfully\n",
      "Book added successfully\n",
      "Book added successfully\n",
      "Book added successfully\n",
      "Book added successfully\n"
     ]
    }
   ],
   "source": [
    "a.add_books(201,20102001,'dsa','ravi')\n",
    "a.add_books(202,20102001,'python','manish')\n",
    "a.add_books(203,20102001,'data science','krish')\n",
    "a.add_books(204,20102001,'sql','sudh')\n",
    "a.add_books(205,20102001,'java','rajesh')\n",
    "a.add_books(206,20102001,'scala','rohit')\n",
    "a.add_books(207,20102001,'oops','jyoti')"
   ]
  },
  {
   "cell_type": "code",
   "execution_count": 134,
   "id": "8eb53ee9-1580-41e1-84fd-0fa26f0c7e48",
   "metadata": {},
   "outputs": [
    {
     "name": "stdout",
     "output_type": "stream",
     "text": [
      "Book id : 201, Title : dsa, Author : ravi\n",
      "Book id : 202, Title : python, Author : manish\n",
      "Book id : 203, Title : data science, Author : krish\n",
      "Book id : 204, Title : sql, Author : sudh\n",
      "Book id : 205, Title : java, Author : rajesh\n",
      "Book id : 206, Title : scala, Author : rohit\n",
      "Book id : 207, Title : oops, Author : jyoti\n"
     ]
    }
   ],
   "source": [
    "a.availability()"
   ]
  },
  {
   "cell_type": "code",
   "execution_count": 135,
   "id": "64892141-0461-402e-bab3-0cf822d3a769",
   "metadata": {},
   "outputs": [
    {
     "data": {
      "text/plain": [
       "'oops book with id 207 rented'"
      ]
     },
     "execution_count": 135,
     "metadata": {},
     "output_type": "execute_result"
    }
   ],
   "source": [
    "a.borrow_book(207)"
   ]
  },
  {
   "cell_type": "code",
   "execution_count": 136,
   "id": "812cae7e-00d5-4f8c-9eb5-e8bf4d342575",
   "metadata": {},
   "outputs": [
    {
     "name": "stdout",
     "output_type": "stream",
     "text": [
      "Book id : 201, Title : dsa, Author : ravi\n",
      "Book id : 202, Title : python, Author : manish\n",
      "Book id : 203, Title : data science, Author : krish\n",
      "Book id : 204, Title : sql, Author : sudh\n",
      "Book id : 205, Title : java, Author : rajesh\n",
      "Book id : 206, Title : scala, Author : rohit\n"
     ]
    }
   ],
   "source": [
    "a.availability()"
   ]
  },
  {
   "cell_type": "code",
   "execution_count": 137,
   "id": "4b3c285a-112d-4f97-b1da-fa72649ab7c5",
   "metadata": {},
   "outputs": [
    {
     "data": {
      "text/plain": [
       "'dsa book with id 201 rented'"
      ]
     },
     "execution_count": 137,
     "metadata": {},
     "output_type": "execute_result"
    }
   ],
   "source": [
    "a.borrow_book(201)"
   ]
  },
  {
   "cell_type": "code",
   "execution_count": 138,
   "id": "ad22852e-14cb-4e9b-83f7-c28347740b32",
   "metadata": {},
   "outputs": [
    {
     "data": {
      "text/plain": [
       "'oops book with id 207 returned'"
      ]
     },
     "execution_count": 138,
     "metadata": {},
     "output_type": "execute_result"
    }
   ],
   "source": [
    "a.return_book(207)"
   ]
  },
  {
   "cell_type": "code",
   "execution_count": 139,
   "id": "67f40fea-4240-434d-892c-7214c92116ab",
   "metadata": {},
   "outputs": [
    {
     "name": "stdout",
     "output_type": "stream",
     "text": [
      "Book id : 202, Title : python, Author : manish\n",
      "Book id : 203, Title : data science, Author : krish\n",
      "Book id : 204, Title : sql, Author : sudh\n",
      "Book id : 205, Title : java, Author : rajesh\n",
      "Book id : 206, Title : scala, Author : rohit\n",
      "Book id : 207, Title : oops, Author : jyoti\n"
     ]
    }
   ],
   "source": [
    "a.availability()"
   ]
  },
  {
   "cell_type": "markdown",
   "id": "fa3310ca-f76a-4f48-9a7a-e6b52ffa5825",
   "metadata": {},
   "source": [
    "Problem 5: Product Inventory Create classes representing a product and an inventory system. Implement methods to add products to the inventory, update product quantity, and display available products."
   ]
  },
  {
   "cell_type": "code",
   "execution_count": 8,
   "id": "8b1a1fec-f128-4867-adf9-24ac01a1f5be",
   "metadata": {},
   "outputs": [],
   "source": [
    "class Product:\n",
    "    def __init__(self, product_id, name,price, quantity):\n",
    "        self.product_id = product_id\n",
    "        self.name = name\n",
    "        self.price = price\n",
    "        self.quantity = quantity\n",
    "\n",
    "    def get_product_details(self):\n",
    "        print(f\"Product id : {self.product_id}\\n Product Name : {self.name}\\n Price : {self.price}\\n Quantity : {self.quantity}\")\n",
    "\n",
    "\n",
    "class InventorySystem:\n",
    "    def __init__(self):\n",
    "        self.products = []\n",
    "\n",
    "    def add_product(self, product_id, name, price, quantity):\n",
    "        item=Product(product_id, name, price, quantity)\n",
    "        self.products.append(item)\n",
    "        print(f\"{name} product with {product_id} id added\")\n",
    "\n",
    "    def update_product_quantity(self, product_id, new_quantity):\n",
    "        for item in self.products:\n",
    "            if item.product_id==product_id:\n",
    "                item.quantity=new_quantity\n",
    "                print(\"Product quantity updated\")\n",
    "\n",
    "    def display_available_products(self):\n",
    "        for item in self.products:\n",
    "            if item.quantity>0:\n",
    "                print(f\"Product id : {item.product_id}\\nProduct Name : {item.name}\\nPrice : {item.price}\\nQuantity : {item.quantity}\\n\")\n"
   ]
  },
  {
   "cell_type": "code",
   "execution_count": 9,
   "id": "cf15ca47-ef3a-4681-b8fa-b046ef7d0df1",
   "metadata": {},
   "outputs": [],
   "source": [
    "a=InventorySystem()"
   ]
  },
  {
   "cell_type": "code",
   "execution_count": 10,
   "id": "a2241a5f-7bd8-475b-8fa1-ef4eba77eb73",
   "metadata": {},
   "outputs": [
    {
     "name": "stdout",
     "output_type": "stream",
     "text": [
      "Macbook air m1 product with 101 id added\n",
      "Macbook air 13inch product with 102 id added\n",
      "Macbook air 15inch product with 103 id added\n"
     ]
    }
   ],
   "source": [
    "a.add_product(101,'Macbook air m1',83240,18)\n",
    "a.add_product(102,'Macbook air 13inch',92230,23)\n",
    "a.add_product(103,'Macbook air 15inch',100429,35)\n"
   ]
  },
  {
   "cell_type": "code",
   "execution_count": 11,
   "id": "78d7476c-043d-48d4-a615-fa0cc7d35f68",
   "metadata": {},
   "outputs": [
    {
     "name": "stdout",
     "output_type": "stream",
     "text": [
      "Product id : 101\n",
      "Product Name : Macbook air m1\n",
      "Price : 83240\n",
      "Quantity : 18\n",
      "\n",
      "Product id : 102\n",
      "Product Name : Macbook air 13inch\n",
      "Price : 92230\n",
      "Quantity : 23\n",
      "\n",
      "Product id : 103\n",
      "Product Name : Macbook air 15inch\n",
      "Price : 100429\n",
      "Quantity : 35\n",
      "\n"
     ]
    }
   ],
   "source": [
    "a.display_available_products()"
   ]
  },
  {
   "cell_type": "code",
   "execution_count": 12,
   "id": "91de5857-660e-4591-a259-9b76c55fa226",
   "metadata": {},
   "outputs": [
    {
     "name": "stdout",
     "output_type": "stream",
     "text": [
      "Product quantity updated\n"
     ]
    }
   ],
   "source": [
    "a.update_product_quantity(102,42353)"
   ]
  },
  {
   "cell_type": "code",
   "execution_count": 13,
   "id": "d983ebb8-ea70-4e75-88c0-0d2a1ae05727",
   "metadata": {},
   "outputs": [
    {
     "name": "stdout",
     "output_type": "stream",
     "text": [
      "Product id : 101\n",
      "Product Name : Macbook air m1\n",
      "Price : 83240\n",
      "Quantity : 18\n",
      "\n",
      "Product id : 102\n",
      "Product Name : Macbook air 13inch\n",
      "Price : 92230\n",
      "Quantity : 42353\n",
      "\n",
      "Product id : 103\n",
      "Product Name : Macbook air 15inch\n",
      "Price : 100429\n",
      "Quantity : 35\n",
      "\n"
     ]
    }
   ],
   "source": [
    "a.display_available_products()"
   ]
  },
  {
   "cell_type": "markdown",
   "id": "8bd054c7-0685-4181-b90f-b181b9a3ebbb",
   "metadata": {},
   "source": [
    "Problem 7: Student Management Create a class representing a student with attributes like student ID, name, and grades. Implement methods to calculate the average grade and display student details."
   ]
  },
  {
   "cell_type": "code",
   "execution_count": 15,
   "id": "f109d962-1a5a-42a1-ac21-3111b2466adf",
   "metadata": {},
   "outputs": [
    {
     "name": "stdout",
     "output_type": "stream",
     "text": [
      "Student ID: 1\n",
      "Name: John\n",
      "Marks: [85, 92, 78, 90, 88]\n",
      "Average Marks: 86.6\n",
      "\n",
      "Student ID: 2\n",
      "Name: Alice\n",
      "Marks: [75, 80, 92, 89, 91]\n",
      "Average Marks: 85.4\n"
     ]
    }
   ],
   "source": [
    "class Student:\n",
    "    def __init__(self, student_id, name, marks):\n",
    "        self.student_id = student_id\n",
    "        self.name = name\n",
    "        self.marks = marks\n",
    "\n",
    "    def calculate_average_marks(self):\n",
    "        if self.marks:\n",
    "            return sum(self.marks) / len(self.marks)\n",
    "        else:\n",
    "            return 0\n",
    "\n",
    "    def display_student_details(self):\n",
    "        print(\"Student ID:\", self.student_id)\n",
    "        print(\"Name:\", self.name)\n",
    "        print(\"Marks:\", self.marks)\n",
    "        print(\"Average Marks:\", self.calculate_average_marks())\n",
    "\n",
    "# Create instances of the Student class\n",
    "student1 = Student(1, \"John\", [85, 92, 78, 90, 88])\n",
    "student2 = Student(2, \"Alice\", [75, 80, 92, 89, 91])\n",
    "\n",
    "# Display student details\n",
    "student1.display_student_details()\n",
    "print()\n",
    "student2.display_student_details()\n"
   ]
  },
  {
   "cell_type": "markdown",
   "id": "022ca1b1-344b-4975-aa4d-53efcf8a12ef",
   "metadata": {},
   "source": [
    "Problem 10: ToDo List Create a class representing a ToDo list with attributes like tasks and due dates. Implement methods to add tasks, mark tasks as completed, and display pending tasks."
   ]
  },
  {
   "cell_type": "code",
   "execution_count": 60,
   "id": "058a2538-7035-41c8-996c-2a194aa33e61",
   "metadata": {},
   "outputs": [
    {
     "name": "stdout",
     "output_type": "stream",
     "text": [
      "Task 'complete oops assignment' added successfully\n",
      "Task 'start new youtube channel' added successfully\n",
      "Task 'complete oops assignment' completed\n",
      "Task : start new youtube channel,  Due Date : 22-10-2023\n"
     ]
    }
   ],
   "source": [
    "class todo:\n",
    "    def __init__(self):\n",
    "        self.tasks={}\n",
    "        \n",
    "    def add_task(self,task,due_date):\n",
    "        self.tasks[task]=due_date\n",
    "        print(f\"Task '{task}' added successfully\")\n",
    "    \n",
    "    def mark_completed(self,task):\n",
    "        if task in self.tasks:\n",
    "            del self.tasks[task]\n",
    "            print(f\"Task '{task}' completed\")\n",
    "        \n",
    "    def pending_task(self):\n",
    "        for key,value in self.tasks.items():\n",
    "            print(f\"Task : {key},  Due Date : {value}\")\n",
    "\n",
    "task=todo()         \n",
    "task.add_task(\"complete oops assignment\",\"21-10-2023\")\n",
    "task.add_task(\"start new youtube channel\",\"22-10-2023\")\n",
    "task.mark_completed(\"complete oops assignment\")\n",
    "task.pending_task()"
   ]
  },
  {
   "cell_type": "markdown",
   "id": "ecc6c1f2-837f-4d5c-a95b-ee5623dd22eb",
   "metadata": {},
   "source": [
    "Problem 6: Shape Calculation Create a class representing a shape with attributes like length, width, and height. Implement methods to calculate the area and perimeter of the shape.\n",
    "\n",
    "Problem 7: Student Management Create a class representing a student with attributes like student ID, name, and grades. Implement methods to calculate the average grade and display student details.\n",
    "\n",
    "Problem 8: Email Management Create a class representing an email with attributes like sender, recipient, and subject. Implement methods to send an email and display email details.\n",
    "\n",
    "Problem 9: Social Media Profile Create a class representing a social media profile with attributes like username and posts. Implement methods to add posts, display posts, and search for posts by keyword.\n"
   ]
  },
  {
   "cell_type": "code",
   "execution_count": null,
   "id": "ecfd645a-0d95-444f-b2f4-0c65503f2962",
   "metadata": {},
   "outputs": [],
   "source": []
  }
 ],
 "metadata": {
  "kernelspec": {
   "display_name": "Python 3 (ipykernel)",
   "language": "python",
   "name": "python3"
  },
  "language_info": {
   "codemirror_mode": {
    "name": "ipython",
    "version": 3
   },
   "file_extension": ".py",
   "mimetype": "text/x-python",
   "name": "python",
   "nbconvert_exporter": "python",
   "pygments_lexer": "ipython3",
   "version": "3.10.8"
  }
 },
 "nbformat": 4,
 "nbformat_minor": 5
}
