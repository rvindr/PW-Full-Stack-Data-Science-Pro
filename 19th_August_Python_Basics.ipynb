{
 "cells": [
  {
   "cell_type": "markdown",
   "id": "ce174c9b-1a71-46b0-b281-52d0e43c6d23",
   "metadata": {
    "tags": []
   },
   "source": [
    "# Python Basic variable"
   ]
  },
  {
   "cell_type": "markdown",
   "id": "a526152d-33cd-4ecc-abe0-78cca42bc272",
   "metadata": {},
   "source": [
    "1. Declare two variables, `x` and `y`, and assign them integer values. Swap the\n",
    "values of these variables without using any temporary variable."
   ]
  },
  {
   "cell_type": "code",
   "execution_count": 11,
   "id": "6172ed16-ef50-4cc6-ac6b-2c48b250e3fb",
   "metadata": {},
   "outputs": [
    {
     "name": "stdout",
     "output_type": "stream",
     "text": [
      "The value of x variable before swapping x=10 and after swapping x=20\n",
      "The value of y ariable before swapping x=10 and after swapping y10\n"
     ]
    }
   ],
   "source": [
    "x=10\n",
    "y=20\n",
    "\n",
    "#swapping\n",
    "y,x=x,y\n",
    "\n",
    "print(f\"The value of x variable before swapping x=10 and after swapping x={x}\")\n",
    "print(f\"The value of y ariable before swapping x=10 and after swapping y{y}\")\n"
   ]
  },
  {
   "cell_type": "markdown",
   "id": "d950fec1-30e0-4ff6-bb4e-c4d7bdaa3f2b",
   "metadata": {},
   "source": [
    "2. Create a program that calculates the area of a rectangle. Take the length and\n",
    "width as inputs from the user and store them in variables. Calculate and\n",
    "display the area."
   ]
  },
  {
   "cell_type": "code",
   "execution_count": 15,
   "id": "a86f3ae7-d2e2-412d-ac5d-5502bf8fb123",
   "metadata": {},
   "outputs": [
    {
     "name": "stdin",
     "output_type": "stream",
     "text": [
      "What is the length of rectangle 5\n",
      "What is the width of rectangle 3\n"
     ]
    },
    {
     "name": "stdout",
     "output_type": "stream",
     "text": [
      "The area of rectangle of length 5 and width 3 is : 15\n"
     ]
    }
   ],
   "source": [
    "# area of rectangle = length*width\n",
    "\n",
    "#taking input from the user for length and breadth\n",
    "length=int(input(\"What is the length of rectangle\"))\n",
    "width=int(input(\"What is the width of rectangle\"))\n",
    "\n",
    "#calculating area of rectangle\n",
    "area=length*width\n",
    "\n",
    "print(f\"The area of rectangle of length {length} and width {width} is : {area}\")"
   ]
  },
  {
   "cell_type": "markdown",
   "id": "ca1dcae1-5fd7-49f4-a79f-bdde6144c38a",
   "metadata": {},
   "source": [
    "3. Write a Python program that converts temperatures from Celsius to\n",
    "Fahrenheit. Take the temperature in Celsius as input, store it in a variable,\n",
    "convert it to Fahrenheit, and display the result."
   ]
  },
  {
   "cell_type": "code",
   "execution_count": 17,
   "id": "7e5cf097-4bec-4f31-a356-5741dd40116a",
   "metadata": {},
   "outputs": [
    {
     "name": "stdin",
     "output_type": "stream",
     "text": [
      "What is the temperature in Celsius 54\n"
     ]
    },
    {
     "name": "stdout",
     "output_type": "stream",
     "text": [
      "The temperature in Fahrenheit is : 129.2\n"
     ]
    }
   ],
   "source": [
    "#The formula to convert Celsius to Fahrenheit is given by: °F = °C × (9/5) + 32.\n",
    "\n",
    "#taking input from the user for temperature in Celsius\n",
    "c_temp=int(input(\"What is the temperature in Celsius\"))\n",
    "\n",
    "\n",
    "#calculating Celsius to Fahrenheit \n",
    "f_temp=c_temp*(9/5)+32\n",
    "\n",
    "print(f\"The temperature in Fahrenheit is : {f_temp}\")"
   ]
  },
  {
   "cell_type": "markdown",
   "id": "0bb42fb9-a466-4ad4-aad0-f510cb81f911",
   "metadata": {
    "tags": []
   },
   "source": [
    "# String "
   ]
  },
  {
   "cell_type": "markdown",
   "id": "d4d580e8-47c6-42b3-bfe8-f0e8f0297dad",
   "metadata": {},
   "source": [
    "1. Write a Python program that takes a string as input and prints the length of\n",
    "the string."
   ]
  },
  {
   "cell_type": "code",
   "execution_count": 21,
   "id": "72c04287-ae1c-4e45-b255-2e22f84eeb94",
   "metadata": {},
   "outputs": [
    {
     "name": "stdin",
     "output_type": "stream",
     "text": [
      "What is your name Ravinder\n"
     ]
    },
    {
     "name": "stdout",
     "output_type": "stream",
     "text": [
      "The length of the string is 8\n"
     ]
    }
   ],
   "source": [
    "_string=input(\"What is your name\")\n",
    "\n",
    "# As we know, input function always return string.\n",
    "#length of the given input string\n",
    "\n",
    "print(f\"The length of the string is: {len(_string)}\")"
   ]
  },
  {
   "cell_type": "markdown",
   "id": "b94ba464-0d79-49c8-971f-d87a7793531d",
   "metadata": {},
   "source": [
    "2. Create a program that takes a sentence from the user and counts the number\n",
    "of vowels (a, e, i, o, u) in the string."
   ]
  },
  {
   "cell_type": "code",
   "execution_count": 30,
   "id": "beafb87e-88f2-4895-934c-51ece45982f7",
   "metadata": {},
   "outputs": [
    {
     "name": "stdin",
     "output_type": "stream",
     "text": [
      "What do you think about AI? potential to revolutionize industries and improve our lives,\n"
     ]
    },
    {
     "name": "stdout",
     "output_type": "stream",
     "text": [
      "The vowels in string are 24\n"
     ]
    }
   ],
   "source": [
    "#taking input from the user\n",
    "str1=input(\"What do you think about AI?\")\n",
    "count=0\n",
    "for i in str1:\n",
    "    if i==\"a\" or i==\"e\" or i==\"i\" or i==\"o\" or i==\"u\":\n",
    "        count+=1\n",
    "print(f\"The vowels in string are {count}\")\n"
   ]
  },
  {
   "cell_type": "markdown",
   "id": "84be7a5c-2685-4cf8-81ca-2357247a108c",
   "metadata": {},
   "source": [
    "3. Given a string, reverse the order of characters using string slicing and print\n",
    "the reversed string."
   ]
  },
  {
   "cell_type": "code",
   "execution_count": 33,
   "id": "faaea8b6-f777-40ba-ab14-2c7b3d75382f",
   "metadata": {},
   "outputs": [
    {
     "name": "stdin",
     "output_type": "stream",
     "text": [
      "Enter a string:  This is my string\n"
     ]
    },
    {
     "name": "stdout",
     "output_type": "stream",
     "text": [
      "Reversed string: gnirts ym si sihT\n"
     ]
    }
   ],
   "source": [
    "# Taking input from the user\n",
    "input_str = input(\"Enter a string: \")\n",
    "\n",
    "# Reverse the string using string slicing\n",
    "reversed_string = input_string[::-1]\n",
    "\n",
    "# Print the reversed string\n",
    "print(\"Reversed string:\", reversed_string)\n"
   ]
  },
  {
   "cell_type": "markdown",
   "id": "c185ee9e-e723-4326-afe7-2d672fc57b61",
   "metadata": {},
   "source": [
    "4. Write a program that takes a string as input and checks if it is a palindrome\n",
    "(reads the same forwards and backwards)."
   ]
  },
  {
   "cell_type": "code",
   "execution_count": 36,
   "id": "d01d2fea-41bb-48f1-ba47-e4a3bb809ae7",
   "metadata": {},
   "outputs": [
    {
     "name": "stdin",
     "output_type": "stream",
     "text": [
      "Enter a string:  madam\n"
     ]
    },
    {
     "name": "stdout",
     "output_type": "stream",
     "text": [
      "The string is palindrome\n"
     ]
    }
   ],
   "source": [
    "# Taking input from the user\n",
    "input_str = input(\"Enter a string: \")\n",
    "\n",
    "# Check if the string is a palindrome\n",
    "if input_string==input_string[::-1]:\n",
    "    print(\"The string is palindrome\")\n",
    "else:\n",
    "    print(\"The string is not palindrome\")"
   ]
  },
  {
   "cell_type": "markdown",
   "id": "8df1c498-1ec0-452b-b55c-6ceb1fe64536",
   "metadata": {},
   "source": [
    "5. Create a program that takes a string as input and removes all the spaces from\n",
    "it. Print the modified string without spaces."
   ]
  },
  {
   "cell_type": "code",
   "execution_count": 44,
   "id": "9a916619-4749-41ed-ac33-0e661fa0c273",
   "metadata": {},
   "outputs": [
    {
     "name": "stdin",
     "output_type": "stream",
     "text": [
      "Enter a string:  This   is   my  string with    spaces    .\n"
     ]
    },
    {
     "name": "stdout",
     "output_type": "stream",
     "text": [
      "Thisismystringwithspaces.\n"
     ]
    }
   ],
   "source": [
    "# Taking input from the user\n",
    "input_str = input(\"Enter a string: \")\n",
    "\n",
    "#remove spaces and store in new variable \n",
    "modified_string=input_str.replace(\" \",\"\")\n",
    "\n",
    "#Print modified string\n",
    "print(modified_string)"
   ]
  },
  {
   "cell_type": "code",
   "execution_count": null,
   "id": "555eed89-dad8-4896-8f83-6e2a6158506e",
   "metadata": {},
   "outputs": [],
   "source": []
  }
 ],
 "metadata": {
  "kernelspec": {
   "display_name": "Python 3 (ipykernel)",
   "language": "python",
   "name": "python3"
  },
  "language_info": {
   "codemirror_mode": {
    "name": "ipython",
    "version": 3
   },
   "file_extension": ".py",
   "mimetype": "text/x-python",
   "name": "python",
   "nbconvert_exporter": "python",
   "pygments_lexer": "ipython3",
   "version": "3.10.8"
  }
 },
 "nbformat": 4,
 "nbformat_minor": 5
}
