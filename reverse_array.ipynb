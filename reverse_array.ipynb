{
 "cells": [
  {
   "cell_type": "code",
   "execution_count": 1,
   "id": "3f383eb6-c38d-4ce9-8e46-03ae7f43b793",
   "metadata": {},
   "outputs": [],
   "source": [
    "#defining function \n",
    "def reverse_array(arr):\n",
    "    start=0\n",
    "    end=len(arr)-1\n",
    "    \n",
    "    while(start<end):\n",
    "        #swapping elements\n",
    "        arr[start], arr[end] = arr[end], arr[start]\n",
    "        \n",
    "        start+=1\n",
    "        end-=1"
   ]
  },
  {
   "cell_type": "code",
   "execution_count": 2,
   "id": "1abe3326-20e1-4668-8630-03496136553c",
   "metadata": {},
   "outputs": [
    {
     "name": "stdout",
     "output_type": "stream",
     "text": [
      "[9, 8, 7, 6, 5, 4, 3, 2, 1]\n"
     ]
    }
   ],
   "source": [
    "#driver code\n",
    "arr=[1,2,3,4,5,6,7,8,9]\n",
    "reverse_array(arr)\n",
    "print(arr)"
   ]
  },
  {
   "cell_type": "code",
   "execution_count": null,
   "id": "b958e792-6227-494a-b44a-038966ff3854",
   "metadata": {},
   "outputs": [],
   "source": []
  }
 ],
 "metadata": {
  "kernelspec": {
   "display_name": "Python 3 (ipykernel)",
   "language": "python",
   "name": "python3"
  },
  "language_info": {
   "codemirror_mode": {
    "name": "ipython",
    "version": 3
   },
   "file_extension": ".py",
   "mimetype": "text/x-python",
   "name": "python",
   "nbconvert_exporter": "python",
   "pygments_lexer": "ipython3",
   "version": "3.10.8"
  }
 },
 "nbformat": 4,
 "nbformat_minor": 5
}
