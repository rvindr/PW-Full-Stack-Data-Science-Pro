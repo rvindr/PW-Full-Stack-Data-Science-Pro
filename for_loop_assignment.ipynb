{
 "cells": [
  {
   "cell_type": "markdown",
   "id": "65c07c09-9d2d-40fc-8096-a56670190bf1",
   "metadata": {},
   "source": [
    "# Assignment : For Loop\n",
    "\n"
   ]
  },
  {
   "cell_type": "markdown",
   "id": "54d58add-bf8a-4ba5-8a4e-71d0ff1f6280",
   "metadata": {
    "jp-MarkdownHeadingCollapsed": true,
    "tags": []
   },
   "source": [
    "## Basic level "
   ]
  },
  {
   "cell_type": "markdown",
   "id": "b2471aec-4935-4229-80ee-c79f201a19d9",
   "metadata": {},
   "source": [
    "1. Write a Python program to print the numbers from 1 to 10 using a `for` loop."
   ]
  },
  {
   "cell_type": "code",
   "execution_count": 1,
   "id": "cc49f1de-e339-48e5-b3b8-e46489ee6230",
   "metadata": {},
   "outputs": [
    {
     "name": "stdout",
     "output_type": "stream",
     "text": [
      "1\n",
      "2\n",
      "3\n",
      "4\n",
      "5\n",
      "6\n",
      "7\n",
      "8\n",
      "9\n",
      "10\n"
     ]
    }
   ],
   "source": [
    "for i in range(1,11):\n",
    "    print(i)"
   ]
  },
  {
   "cell_type": "markdown",
   "id": "56a165e9-5450-49cf-8744-a2245579bf30",
   "metadata": {},
   "source": [
    "2. Create a program that calculates the sum of all numbers in a list using a `for` loop."
   ]
  },
  {
   "cell_type": "code",
   "execution_count": 2,
   "id": "eae5e857-09e3-4a4d-99fc-771bf7bd3f3e",
   "metadata": {},
   "outputs": [
    {
     "name": "stdout",
     "output_type": "stream",
     "text": [
      "Total sum :  15\n"
     ]
    }
   ],
   "source": [
    "list1=[1,2,3,4,5]\n",
    "#Initialize total sum\n",
    "total_sum=0\n",
    "\n",
    "#iterate through list\n",
    "for num in list1:\n",
    "    total_sum+=num\n",
    "\n",
    "# display result\n",
    "print(\"Total sum : \",total_sum)"
   ]
  },
  {
   "cell_type": "markdown",
   "id": "3557becc-b992-4bd4-b0aa-70e8d4d85a3c",
   "metadata": {},
   "source": [
    "3. Write a program to print the characters of a string in reverse order using a `for` loop."
   ]
  },
  {
   "cell_type": "code",
   "execution_count": 3,
   "id": "1c9adb53-fb60-43f0-acbb-805a9c780f88",
   "metadata": {},
   "outputs": [
    {
     "name": "stdout",
     "output_type": "stream",
     "text": [
      "g n i r t s   e l p m a s   s i   s i h "
     ]
    }
   ],
   "source": [
    "string='this is sample string'\n",
    "\n",
    "for i in range(len(string)-1,0,-1):\n",
    "    print(string[i],end=\" \")"
   ]
  },
  {
   "cell_type": "markdown",
   "id": "bdd341cd-71d4-4080-8486-93e55608759a",
   "metadata": {},
   "source": [
    "4. Develop a program that finds the factorial of a given number using a `for` loop."
   ]
  },
  {
   "cell_type": "code",
   "execution_count": 4,
   "id": "4f6ad1cc-3b8b-48a2-9ba2-584e218185e5",
   "metadata": {},
   "outputs": [
    {
     "ename": "KeyboardInterrupt",
     "evalue": "Interrupted by user",
     "output_type": "error",
     "traceback": [
      "\u001b[0;31m---------------------------------------------------------------------------\u001b[0m",
      "\u001b[0;31mKeyboardInterrupt\u001b[0m                         Traceback (most recent call last)",
      "Cell \u001b[0;32mIn[4], line 2\u001b[0m\n\u001b[1;32m      1\u001b[0m \u001b[38;5;66;03m# Input: Take the number from the user\u001b[39;00m\n\u001b[0;32m----> 2\u001b[0m num \u001b[38;5;241m=\u001b[39m \u001b[38;5;28mint\u001b[39m(\u001b[38;5;28;43minput\u001b[39;49m\u001b[43m(\u001b[49m\u001b[38;5;124;43m\"\u001b[39;49m\u001b[38;5;124;43mEnter a number: \u001b[39;49m\u001b[38;5;124;43m\"\u001b[39;49m\u001b[43m)\u001b[49m)\n\u001b[1;32m      4\u001b[0m \u001b[38;5;66;03m# Initialize the factorial to 1\u001b[39;00m\n\u001b[1;32m      5\u001b[0m factorial \u001b[38;5;241m=\u001b[39m \u001b[38;5;241m1\u001b[39m\n",
      "File \u001b[0;32m/opt/conda/lib/python3.10/site-packages/ipykernel/kernelbase.py:1175\u001b[0m, in \u001b[0;36mKernel.raw_input\u001b[0;34m(self, prompt)\u001b[0m\n\u001b[1;32m   1171\u001b[0m \u001b[38;5;28;01mif\u001b[39;00m \u001b[38;5;129;01mnot\u001b[39;00m \u001b[38;5;28mself\u001b[39m\u001b[38;5;241m.\u001b[39m_allow_stdin:\n\u001b[1;32m   1172\u001b[0m     \u001b[38;5;28;01mraise\u001b[39;00m StdinNotImplementedError(\n\u001b[1;32m   1173\u001b[0m         \u001b[38;5;124m\"\u001b[39m\u001b[38;5;124mraw_input was called, but this frontend does not support input requests.\u001b[39m\u001b[38;5;124m\"\u001b[39m\n\u001b[1;32m   1174\u001b[0m     )\n\u001b[0;32m-> 1175\u001b[0m \u001b[38;5;28;01mreturn\u001b[39;00m \u001b[38;5;28;43mself\u001b[39;49m\u001b[38;5;241;43m.\u001b[39;49m\u001b[43m_input_request\u001b[49m\u001b[43m(\u001b[49m\n\u001b[1;32m   1176\u001b[0m \u001b[43m    \u001b[49m\u001b[38;5;28;43mstr\u001b[39;49m\u001b[43m(\u001b[49m\u001b[43mprompt\u001b[49m\u001b[43m)\u001b[49m\u001b[43m,\u001b[49m\n\u001b[1;32m   1177\u001b[0m \u001b[43m    \u001b[49m\u001b[38;5;28;43mself\u001b[39;49m\u001b[38;5;241;43m.\u001b[39;49m\u001b[43m_parent_ident\u001b[49m\u001b[43m[\u001b[49m\u001b[38;5;124;43m\"\u001b[39;49m\u001b[38;5;124;43mshell\u001b[39;49m\u001b[38;5;124;43m\"\u001b[39;49m\u001b[43m]\u001b[49m\u001b[43m,\u001b[49m\n\u001b[1;32m   1178\u001b[0m \u001b[43m    \u001b[49m\u001b[38;5;28;43mself\u001b[39;49m\u001b[38;5;241;43m.\u001b[39;49m\u001b[43mget_parent\u001b[49m\u001b[43m(\u001b[49m\u001b[38;5;124;43m\"\u001b[39;49m\u001b[38;5;124;43mshell\u001b[39;49m\u001b[38;5;124;43m\"\u001b[39;49m\u001b[43m)\u001b[49m\u001b[43m,\u001b[49m\n\u001b[1;32m   1179\u001b[0m \u001b[43m    \u001b[49m\u001b[43mpassword\u001b[49m\u001b[38;5;241;43m=\u001b[39;49m\u001b[38;5;28;43;01mFalse\u001b[39;49;00m\u001b[43m,\u001b[49m\n\u001b[1;32m   1180\u001b[0m \u001b[43m\u001b[49m\u001b[43m)\u001b[49m\n",
      "File \u001b[0;32m/opt/conda/lib/python3.10/site-packages/ipykernel/kernelbase.py:1217\u001b[0m, in \u001b[0;36mKernel._input_request\u001b[0;34m(self, prompt, ident, parent, password)\u001b[0m\n\u001b[1;32m   1214\u001b[0m             \u001b[38;5;28;01mbreak\u001b[39;00m\n\u001b[1;32m   1215\u001b[0m \u001b[38;5;28;01mexcept\u001b[39;00m \u001b[38;5;167;01mKeyboardInterrupt\u001b[39;00m:\n\u001b[1;32m   1216\u001b[0m     \u001b[38;5;66;03m# re-raise KeyboardInterrupt, to truncate traceback\u001b[39;00m\n\u001b[0;32m-> 1217\u001b[0m     \u001b[38;5;28;01mraise\u001b[39;00m \u001b[38;5;167;01mKeyboardInterrupt\u001b[39;00m(\u001b[38;5;124m\"\u001b[39m\u001b[38;5;124mInterrupted by user\u001b[39m\u001b[38;5;124m\"\u001b[39m) \u001b[38;5;28;01mfrom\u001b[39;00m \u001b[38;5;28mNone\u001b[39m\n\u001b[1;32m   1218\u001b[0m \u001b[38;5;28;01mexcept\u001b[39;00m \u001b[38;5;167;01mException\u001b[39;00m:\n\u001b[1;32m   1219\u001b[0m     \u001b[38;5;28mself\u001b[39m\u001b[38;5;241m.\u001b[39mlog\u001b[38;5;241m.\u001b[39mwarning(\u001b[38;5;124m\"\u001b[39m\u001b[38;5;124mInvalid Message:\u001b[39m\u001b[38;5;124m\"\u001b[39m, exc_info\u001b[38;5;241m=\u001b[39m\u001b[38;5;28;01mTrue\u001b[39;00m)\n",
      "\u001b[0;31mKeyboardInterrupt\u001b[0m: Interrupted by user"
     ]
    }
   ],
   "source": [
    "# Input: Take the number from the user\n",
    "num = int(input(\"Enter a number: \"))\n",
    "\n",
    "# Initialize the factorial to 1\n",
    "factorial = 1\n",
    "\n",
    "# Calculate the factorial using a for loop\n",
    "for i in range(1, num + 1):\n",
    "    factorial *= i\n",
    "\n",
    "# Display the factorial\n",
    "print(f\"The factorial of {num} is {factorial}\")\n"
   ]
  },
  {
   "cell_type": "markdown",
   "id": "a6faf2f6-1dce-4e59-bba1-cadbcafcdef0",
   "metadata": {},
   "source": [
    "5. Create a program to print the multiplication table of a given number using a `for` loop."
   ]
  },
  {
   "cell_type": "code",
   "execution_count": null,
   "id": "3ae631c4-293a-4295-aad2-3b10e5059ae6",
   "metadata": {},
   "outputs": [],
   "source": [
    "# Input: Take the number from the user\n",
    "num = int(input(\"Enter a number: \"))\n",
    "\n",
    "#calculate \n",
    "for i in range(1,11):\n",
    "    print(f\"{num} * {i} = {num*i}\")"
   ]
  },
  {
   "cell_type": "markdown",
   "id": "753653f0-3cd2-4fa5-91b2-773c8cc603a3",
   "metadata": {},
   "source": [
    "6. Write a program that counts the number of even and odd numbers in a list using a `for` loop."
   ]
  },
  {
   "cell_type": "code",
   "execution_count": null,
   "id": "f4e1a20e-798d-45c6-9fde-6077e5e466bd",
   "metadata": {},
   "outputs": [],
   "source": [
    "# Input: Create a list of numbers\n",
    "numbers = [1, 2, 3, 4, 5, 6, 7, 8, 9, 10]\n",
    "\n",
    "# Initialize counters for even and odd numbers\n",
    "even_count = 0\n",
    "odd_count = 0\n",
    "\n",
    "# Iterate through the list using a for loop\n",
    "for number in numbers:\n",
    "    if number % 2 == 0:\n",
    "        even_count += 1\n",
    "    else:\n",
    "        odd_count += 1\n",
    "\n",
    "# Display the counts\n",
    "print(f\"Number of even numbers: {even_count}\")\n",
    "print(f\"Number of odd numbers: {odd_count}\")\n"
   ]
  },
  {
   "cell_type": "markdown",
   "id": "a550263f-b0d7-4cba-a90d-3d571a6db5da",
   "metadata": {},
   "source": [
    "7. Develop a program that prints the squares of numbers from 1 to 5 using a `for` loop."
   ]
  },
  {
   "cell_type": "code",
   "execution_count": null,
   "id": "ff0770d1-2ceb-4425-b699-8d5e327384a1",
   "metadata": {},
   "outputs": [],
   "source": [
    "for num in range(1,6):\n",
    "    print(f'{num}^2 ={num**2}')"
   ]
  },
  {
   "cell_type": "markdown",
   "id": "173aa85c-7276-4e9c-812f-dc7c5447e8fc",
   "metadata": {},
   "source": [
    "8. Create a program to find the length of a string without using the `len()` function."
   ]
  },
  {
   "cell_type": "code",
   "execution_count": null,
   "id": "cd86be13-2499-4d5b-8531-d6bbd5e9e37a",
   "metadata": {},
   "outputs": [],
   "source": [
    "#we can use loop for finding length of a list\n",
    "\n",
    "#Function to find length of a list\n",
    "def length(input_string):\n",
    "    length=0\n",
    "    for char in input_string:\n",
    "        length+=1\n",
    "    return length\n",
    "li=[1, 2, 3, 4, 5, 6, 7, 8, 9, 10]\n",
    "\n",
    "#Display lenght\n",
    "print(f\"The lenght of the list : {length(li)}\")"
   ]
  },
  {
   "cell_type": "markdown",
   "id": "c649ad0d-c618-406c-a1d9-ae4898d719fb",
   "metadata": {},
   "source": [
    "9. Write a program that calculates the average of a list of numbers using a `for` loop."
   ]
  },
  {
   "cell_type": "code",
   "execution_count": null,
   "id": "afc35369-170c-43e9-9731-93472863b6e9",
   "metadata": {},
   "outputs": [],
   "source": [
    "list1=[1,2,3,4,5]\n",
    "\n",
    "def list_avg(list1):\n",
    "    total_sum=0\n",
    "    #calculate total sum of list numbers\n",
    "    for num in list1:\n",
    "        total_sum+=num\n",
    "    #calculate and return average value\n",
    "    return total_sum/len(list1)\n",
    "\n",
    "                     \n",
    "avg=list_avg(list1)\n",
    "                     \n",
    "print(f'Average of list numbers : ',avg)"
   ]
  },
  {
   "cell_type": "markdown",
   "id": "bb433a1d-ada3-4d22-8f03-34a4723e9cc0",
   "metadata": {},
   "source": [
    "10. Develop a program that prints the first `n` Fibonacci numbers using a `for` loop."
   ]
  },
  {
   "cell_type": "code",
   "execution_count": null,
   "id": "2623a49a-0e50-48d3-9e8d-f671bea93b85",
   "metadata": {},
   "outputs": [],
   "source": [
    "def fibonacci(step):\n",
    "    fib=[0,1]\n",
    "    for i in range(2,step):\n",
    "        next_fib=fib[i-1]+fib[i-2]\n",
    "        fib.append(next_fib)\n",
    "    return fib\n",
    "\n",
    "fibonacci_series=fibonacci(12)\n",
    "\n",
    "print(fibonacci_series)"
   ]
  },
  {
   "cell_type": "markdown",
   "id": "418aded2-40cc-4712-9891-96ff739747f0",
   "metadata": {},
   "source": [
    "## Intermediate Level:"
   ]
  },
  {
   "cell_type": "markdown",
   "id": "8e5ca258-a18e-4760-81a2-fefafba59094",
   "metadata": {},
   "source": [
    "11. Write a program to check if a given list contains any duplicates using a `for` loop."
   ]
  },
  {
   "cell_type": "code",
   "execution_count": 6,
   "id": "5b90886e-eadd-4ebc-a522-0de37cc9201f",
   "metadata": {},
   "outputs": [
    {
     "name": "stdout",
     "output_type": "stream",
     "text": [
      "The list contains duplicates.\n"
     ]
    }
   ],
   "source": [
    "# Input: Create a list\n",
    "my_list = [1, 2, 3, 4, 2, 5, 6]\n",
    "\n",
    "# Initialize a flag to track duplicates\n",
    "has_duplicates = False\n",
    "\n",
    "# Iterate through the list using a for loop\n",
    "for i in range(len(my_list)):\n",
    "    for j in range(i + 1, len(my_list)):\n",
    "        if my_list[i] == my_list[j]:\n",
    "            has_duplicates = True\n",
    "            break\n",
    "\n",
    "# Check the flag and display the result\n",
    "if has_duplicates:\n",
    "    print(\"The list contains duplicates.\")\n",
    "else:\n",
    "    print(\"The list does not contain duplicates.\")\n"
   ]
  },
  {
   "cell_type": "markdown",
   "id": "99646080-88ec-46be-b49d-81576fd0dd7e",
   "metadata": {},
   "source": [
    "12. Create a program that prints the prime numbers in a given range using a `for` loop."
   ]
  },
  {
   "cell_type": "code",
   "execution_count": 17,
   "id": "6fc2401f-0e3f-4094-9975-d1f60e9b08b9",
   "metadata": {},
   "outputs": [
    {
     "name": "stdout",
     "output_type": "stream",
     "text": [
      "Prime Number upto 10 : [2, 3, 5, 7]\n"
     ]
    }
   ],
   "source": [
    " # Create a function to check a number is prime or not\n",
    "def isprime(num):\n",
    "    ''' Take number as input and Return True if number is prime '''\n",
    "    prime_num=True\n",
    "    if num<=1:\n",
    "        prime_num=False\n",
    "        return prime_num\n",
    "    elif num==2:\n",
    "        return prime_num\n",
    "    else:\n",
    "        for i in range(2,num-1):\n",
    "            if num%i==0:\n",
    "                prime_num=False\n",
    "                return prime_num\n",
    "    return \"Invalid Output\"\n",
    "    \n",
    "\n",
    "def print_prime(step):\n",
    "    #Initialize empty list to store prime number\n",
    "    prime_num=[]\n",
    "    \n",
    "    for i in range(1,step+1):\n",
    "        if isprime(i):\n",
    "            prime_num.append(i)\n",
    "    return prime_num\n",
    "\n",
    "step=10\n",
    "prime_num_list=print_prime(step)\n",
    "print(f\"Prime Number upto {step} : {prime_num_list}\")\n"
   ]
  },
  {
   "cell_type": "markdown",
   "id": "c53d1218-d024-4848-8a7d-d51a76b6c077",
   "metadata": {},
   "source": [
    "13. Develop a program that counts the number of vowels in a string using a `for` loop."
   ]
  },
  {
   "cell_type": "code",
   "execution_count": 33,
   "id": "3da3a9f3-b219-4cbc-9616-3b14580cc491",
   "metadata": {},
   "outputs": [
    {
     "name": "stdout",
     "output_type": "stream",
     "text": [
      "Vowels in the given string: 12\n"
     ]
    }
   ],
   "source": [
    "text = 'this is a sample string containing vowels'\n",
    "vowels = 'aeiouAEIOU'  # Include both lowercase and uppercase vowels for completeness\n",
    "\n",
    "# Initialize count\n",
    "count = 0\n",
    "\n",
    "for char in text:\n",
    "    if char in vowels:\n",
    "        count += 1\n",
    "\n",
    "print(\"Vowels in the given string:\", count)\n"
   ]
  },
  {
   "cell_type": "markdown",
   "id": "6d1b1ae7-2c1f-418a-b913-a6ab75df4c01",
   "metadata": {},
   "source": [
    "14. Write a program to find the maximum element in a 2D list using a nested `for` loop"
   ]
  },
  {
   "cell_type": "code",
   "execution_count": 46,
   "id": "f3ca900c-9046-42b0-85bd-ac9e80a40737",
   "metadata": {},
   "outputs": [
    {
     "name": "stdout",
     "output_type": "stream",
     "text": [
      "Maximum number in nested list :  1001\n"
     ]
    }
   ],
   "source": [
    "\n",
    "def find_max(li):\n",
    "    '''Use to find maximum value in the nested list'''\n",
    "    # Initialize smallest value\n",
    "    max_num=float('-inf')\n",
    "    # outer loop \n",
    "    for i in range(len(li)):\n",
    "        for j in range(len(li[i])):\n",
    "                       if li[i][j]>max_num:\n",
    "                            max_num=li[i][j]\n",
    "    return max_num\n",
    "\n",
    "#display result\n",
    "li=[[1,2,3,4,5],[11,12,23,1001,23],[23,45,23,27,24]]\n",
    "max_num=find_max(li)\n",
    "\n",
    "print(\"Maximum number in nested list : \",max_num)"
   ]
  },
  {
   "cell_type": "markdown",
   "id": "f5ebfd4d-97a4-4d4c-beb4-ba0523cd2901",
   "metadata": {},
   "source": [
    "15. Create a program that removes all occurrences of a specific element from a list using a `for` loop"
   ]
  },
  {
   "cell_type": "code",
   "execution_count": 57,
   "id": "f4a8bcf2-31f4-40eb-8625-3eb539d1edcb",
   "metadata": {},
   "outputs": [
    {
     "name": "stdout",
     "output_type": "stream",
     "text": [
      "Modified List :  [1, 2, 3, 4, 5, 6]\n"
     ]
    }
   ],
   "source": [
    "def remove_element(li,word):\n",
    "    #Initialize empty list to store modified list element\n",
    "    new_list=[]\n",
    "    \n",
    "    for element in li:\n",
    "        if element!=word:\n",
    "            new_list.append(element)\n",
    "    return new_list\n",
    "\n",
    "li=[1,2,'ravi',3,4,5,'ravi',6]\n",
    "word='ravi'\n",
    "new_li=remove_element(li,word)\n",
    "\n",
    "print(\"Modified List : \",new_li)"
   ]
  },
  {
   "cell_type": "markdown",
   "id": "54b74c22-6d75-4de2-bb34-0993cdbbfdf3",
   "metadata": {},
   "source": [
    "16. Develop a program that generates a multiplication table for numbers from 1 to 5 using a nested `for` loop."
   ]
  },
  {
   "cell_type": "code",
   "execution_count": 61,
   "id": "2f925c42-36a8-445a-ba87-967ee9fde65a",
   "metadata": {},
   "outputs": [
    {
     "name": "stdout",
     "output_type": "stream",
     "text": [
      "1*1 = 1\n",
      "1*2 = 2\n",
      "1*3 = 3\n",
      "1*4 = 4\n",
      "1*5 = 5\n",
      "1*6 = 6\n",
      "1*7 = 7\n",
      "1*8 = 8\n",
      "1*9 = 9\n",
      "1*10 = 10\n",
      "\n",
      "2*1 = 2\n",
      "2*2 = 4\n",
      "2*3 = 6\n",
      "2*4 = 8\n",
      "2*5 = 10\n",
      "2*6 = 12\n",
      "2*7 = 14\n",
      "2*8 = 16\n",
      "2*9 = 18\n",
      "2*10 = 20\n",
      "\n",
      "3*1 = 3\n",
      "3*2 = 6\n",
      "3*3 = 9\n",
      "3*4 = 12\n",
      "3*5 = 15\n",
      "3*6 = 18\n",
      "3*7 = 21\n",
      "3*8 = 24\n",
      "3*9 = 27\n",
      "3*10 = 30\n",
      "\n",
      "4*1 = 4\n",
      "4*2 = 8\n",
      "4*3 = 12\n",
      "4*4 = 16\n",
      "4*5 = 20\n",
      "4*6 = 24\n",
      "4*7 = 28\n",
      "4*8 = 32\n",
      "4*9 = 36\n",
      "4*10 = 40\n",
      "\n",
      "5*1 = 5\n",
      "5*2 = 10\n",
      "5*3 = 15\n",
      "5*4 = 20\n",
      "5*5 = 25\n",
      "5*6 = 30\n",
      "5*7 = 35\n",
      "5*8 = 40\n",
      "5*9 = 45\n",
      "5*10 = 50\n",
      "\n"
     ]
    }
   ],
   "source": [
    "for i in range(1,6):\n",
    "    for j in range(1,11):\n",
    "        print(f\"{i}*{j} = {i*j}\")\n",
    "    print()"
   ]
  },
  {
   "cell_type": "markdown",
   "id": "279cf495-8adc-4252-9584-9d836f018d23",
   "metadata": {},
   "source": [
    "17. Write a program that converts a list of Fahrenheit temperatures to Celsius using a `for` loop."
   ]
  },
  {
   "cell_type": "code",
   "execution_count": 69,
   "id": "979de571-a288-4315-8d03-501c0c08ecd0",
   "metadata": {},
   "outputs": [
    {
     "name": "stdout",
     "output_type": "stream",
     "text": [
      "Fahrenheit Temperatures :  [32, 68, 77, 104, 212]\n",
      "Celsius Temperatures :  [0.0, 20.0, 25.0, 40.0, 100.0]\n"
     ]
    }
   ],
   "source": [
    "def fahrenheit_to_celsius(li):\n",
    "    \n",
    "    celsius_temp=[]\n",
    "    \n",
    "    for temp in li:\n",
    "        celsius=(temp - 32) * 5/9\n",
    "        celsius_temp.append(celsius)\n",
    "    \n",
    "    return celsius_temp\n",
    "\n",
    "fahrenheit_temperatures = [32, 68, 77, 104, 212]\n",
    "celsius_temp=fahrenheit_to_celsius(fahrenheit_temperatures)\n",
    "\n",
    "print(\"Fahrenheit Temperatures : \",fahrenheit_temperatures)\n",
    "print(\"Celsius Temperatures : \",celsius_temp)"
   ]
  },
  {
   "cell_type": "markdown",
   "id": "7a3ca633-0368-4772-973b-364b23aceef4",
   "metadata": {},
   "source": [
    "18. Create a program to print the common elements from two lists using a `for` loop."
   ]
  },
  {
   "cell_type": "code",
   "execution_count": 10,
   "id": "464ad50e-f2c5-4393-97d5-cfd8c8dd2221",
   "metadata": {},
   "outputs": [
    {
     "name": "stdout",
     "output_type": "stream",
     "text": [
      "3 4 "
     ]
    }
   ],
   "source": [
    "li1=[1,2,3,4,3,5]\n",
    "li2=[6,6,7,8,3,9,4]\n",
    "\n",
    "#removing duplicate value in a list\n",
    "li1=set(li1)\n",
    "li2=set(li2)\n",
    "\n",
    "for num in li1:\n",
    "    if num in li2:\n",
    "        print(num,end=\" \")"
   ]
  },
  {
   "cell_type": "markdown",
   "id": "26dd0270-9743-4438-ab47-780a3da81e82",
   "metadata": {},
   "source": [
    "19. Develop a program that prints the pattern of right-angled triangles using a `for` loop. Use ‘*’ to draw the\n",
    "pattern"
   ]
  },
  {
   "cell_type": "code",
   "execution_count": 23,
   "id": "392660fd-87b4-4c66-8273-4d33c141554f",
   "metadata": {},
   "outputs": [
    {
     "name": "stdout",
     "output_type": "stream",
     "text": [
      "\n",
      "*\n",
      "**\n",
      "***\n",
      "****\n",
      "*****\n",
      "******\n"
     ]
    }
   ],
   "source": [
    "def triangle_pattern(step):\n",
    "    for i in range(step+1):\n",
    "        print('*'*i)\n",
    "\n",
    "triangle_pattern(6)    "
   ]
  },
  {
   "cell_type": "markdown",
   "id": "2f934172-7a1c-47c8-b8f8-24be63f645f6",
   "metadata": {},
   "source": [
    "20. Write a program to find the greatest common divisor (GCD) of two numbers using a `for` loop."
   ]
  },
  {
   "cell_type": "markdown",
   "id": "a6977c00-f7ff-4a5d-9822-dda31b79a58b",
   "metadata": {},
   "source": [
    "# Advance level practice questions"
   ]
  },
  {
   "cell_type": "markdown",
   "id": "966683d8-219a-40fa-b682-85a262715a72",
   "metadata": {},
   "source": [
    " \n",
    "\n",
    "21. Create a program that calculates the sum of the digits of numbers in a list using a list comprehension.\n",
    "\n",
    "22. Write a program to find the prime factors of a given number using a `for` loop and list comprehension.\n",
    "\n",
    "23. Develop a program that extracts unique elements from a list and stores them in a new list using a list\n",
    "comprehension.\n",
    "\n",
    "24. Create a program that generates a list of all palindromic numbers up to a specified limit using a list\n",
    "comprehension.\n",
    "\n",
    "25. Write a program to flatten a nested list using list comprehension.\n",
    "\n",
    "26. Develop a program that computes the sum of even and odd numbers in a list separately using list\n",
    "comprehension.\n",
    "\n",
    "27. Create a program that generates a list of squares of odd numbers between 1 and 10 using list\n",
    "comprehension.\n",
    "\n",
    "28. Write a program that combines two lists into a dictionary using list comprehension.\n",
    "\n",
    "29. Develop a program that extracts the vowels from a string and stores them in a list using list comprehension.\n",
    "\n",
    "30. Create a program that removes all non-numeric characters from a list of strings using list comprehension."
   ]
  },
  {
   "cell_type": "markdown",
   "id": "7e3ded89-749d-40ba-b82a-5c5ac373ec98",
   "metadata": {},
   "source": [
    "# Challenge Level:"
   ]
  },
  {
   "cell_type": "code",
   "execution_count": null,
   "id": "cb4c6ef0-5315-402f-8d8e-61d6b51af5a5",
   "metadata": {},
   "outputs": [],
   "source": [
    "31. Write a program to generate a list of prime numbers using the Sieve of Eratosthenes algorithm and list\n",
    "comprehension.\n",
    "\n",
    "32. Create a program that generates a list of all Pythagorean triplets up to a specified limit using list\n",
    "comprehension."
   ]
  }
 ],
 "metadata": {
  "kernelspec": {
   "display_name": "Python 3 (ipykernel)",
   "language": "python",
   "name": "python3"
  },
  "language_info": {
   "codemirror_mode": {
    "name": "ipython",
    "version": 3
   },
   "file_extension": ".py",
   "mimetype": "text/x-python",
   "name": "python",
   "nbconvert_exporter": "python",
   "pygments_lexer": "ipython3",
   "version": "3.10.8"
  }
 },
 "nbformat": 4,
 "nbformat_minor": 5
}
