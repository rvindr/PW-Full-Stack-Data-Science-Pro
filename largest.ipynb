{
 "cells": [
  {
   "cell_type": "markdown",
   "id": "61580a20-5bee-428c-8aa1-486d485f0de9",
   "metadata": {},
   "source": [
    "4. Given an array of integers, find the maximum element in an array.<br>\n",
    "arr = [10, 5, 20, 8, 15]<br>\n",
    "Output = 20"
   ]
  },
  {
   "cell_type": "code",
   "execution_count": 2,
   "id": "46a3c8a3-c453-4dfa-b568-d0e1c01392fb",
   "metadata": {},
   "outputs": [],
   "source": [
    "#defining functions to get largest element\n",
    "def largest(arr):\n",
    "    largest=float('-inf')\n",
    "    \n",
    "    for i in arr:\n",
    "        if i>largest:\n",
    "            largest=i\n",
    "    return largest"
   ]
  },
  {
   "cell_type": "code",
   "execution_count": 4,
   "id": "db5f7b72-0fbe-4750-bdd4-9f252e765143",
   "metadata": {},
   "outputs": [
    {
     "name": "stdout",
     "output_type": "stream",
     "text": [
      "20\n"
     ]
    }
   ],
   "source": [
    "#drivercode\n",
    "arr = [10, 5, 20, 8, 15]\n",
    "max_num=largest(arr)\n",
    "print(max_num)"
   ]
  },
  {
   "cell_type": "code",
   "execution_count": null,
   "id": "02b329ba-2e36-4d4a-adb0-2b826a154b46",
   "metadata": {},
   "outputs": [],
   "source": []
  }
 ],
 "metadata": {
  "kernelspec": {
   "display_name": "Python 3 (ipykernel)",
   "language": "python",
   "name": "python3"
  },
  "language_info": {
   "codemirror_mode": {
    "name": "ipython",
    "version": 3
   },
   "file_extension": ".py",
   "mimetype": "text/x-python",
   "name": "python",
   "nbconvert_exporter": "python",
   "pygments_lexer": "ipython3",
   "version": "3.10.8"
  }
 },
 "nbformat": 4,
 "nbformat_minor": 5
}
