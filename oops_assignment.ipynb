{
 "cells": [
  {
   "cell_type": "markdown",
   "id": "1a847cb9-6d3c-4095-b1f4-3c7054e181d1",
   "metadata": {},
   "source": [
    "# Constructor"
   ]
  },
  {
   "cell_type": "markdown",
   "id": "ecceff7c-d74f-4a6e-83a3-cae5376b54fa",
   "metadata": {},
   "source": [
    "1. What is a constructor in Python? Explain its purpose and usage."
   ]
  },
  {
   "cell_type": "markdown",
   "id": "98db564f-b48b-4cc9-8992-748ce703b73c",
   "metadata": {},
   "source": [
    "In Python, a constructor is a special method that is used to initialize and create objects of a class. It is typically called when you create a new instance of a class. The primary purpose of a constructor is to set up the initial state of an object by initializing its attributes or performing other setup operations. Constructors are defined using the `__init__` method in Python.<br>\n",
    "<b>Object Initialization</b>: Constructors allow you to define how an object should be initialized when it is created. This means you can set the initial values of attributes, perform setup tasks, or allocate resources.<br>\n",
    "<b>Declaration:</b> To create a constructor for a class, you define a method named __init__ within the class. This method takes self as its first parameter (which refers to the instance being created) and can also take additional parameters to initialize the object's attributes.\n",
    "\n",
    "<b>Attribute Initialization:</b> Inside the constructor, you can initialize the object's attributes by assigning values to them using the self reference. This allows you to set the initial state of the object."
   ]
  },
  {
   "cell_type": "code",
   "execution_count": 2,
   "id": "d25982bb-712a-4594-9517-fb79473827d8",
   "metadata": {},
   "outputs": [],
   "source": [
    "class test:\n",
    "    def __init__(self, name, age):\n",
    "        self.name = name\n",
    "        self.age = age\n",
    "\n",
    "# Creating an instance of the Person class using the constructor\n",
    "person1 = test(\"Alice\", 30)\n"
   ]
  },
  {
   "cell_type": "markdown",
   "id": "8d9feedb-1dfb-4ec2-8613-f53b8ae84e2c",
   "metadata": {},
   "source": [
    "2. Differentiate between a parameterless constructor and a parameterized constructor in Python."
   ]
  },
  {
   "cell_type": "markdown",
   "id": "cd0f4829-15e6-4ec0-91bb-975a6827b050",
   "metadata": {},
   "source": [
    "Parameterless Constructor:\n",
    "\n",
    "A parameterless constructor, also known as a default constructor, is a constructor that does not accept any arguments other than the self parameter.\n",
    "It is defined using the __init__ method with just the self parameter.\n",
    "A parameterless constructor typically initializes the object's attributes with default values or performs minimal setup operations.\n",
    "It is used when you want to create objects with the same initial state for all instances of the class."
   ]
  },
  {
   "cell_type": "code",
   "execution_count": 3,
   "id": "50a47bb0-4bb5-4fa6-a3f7-195a3976bcf5",
   "metadata": {},
   "outputs": [],
   "source": [
    "class Student:\n",
    "    def __init__(self):\n",
    "        self.name = \"John\"\n",
    "        self.age = 20\n"
   ]
  },
  {
   "cell_type": "markdown",
   "id": "0ad8e04a-5a8d-470a-890b-5b97f8308795",
   "metadata": {},
   "source": [
    "Parameterized Constructor:\n",
    "\n",
    "A parameterized constructor, also known as a custom constructor, is a constructor that accepts one or more arguments in addition to the self parameter.\n",
    "It is defined using the __init__ method with additional parameters that allow you to initialize the object's attributes based on the provided arguments.\n",
    "A parameterized constructor is used when you want to create objects with different initial states or when you need to customize the initialization process."
   ]
  },
  {
   "cell_type": "code",
   "execution_count": 4,
   "id": "76b6f796-8925-4e30-b33c-0cbddbd81ff8",
   "metadata": {},
   "outputs": [],
   "source": [
    "class Book:\n",
    "    def __init__(self, title, author, year):\n",
    "        self.title = title\n",
    "        self.author = author\n",
    "        self.year = year\n"
   ]
  },
  {
   "cell_type": "markdown",
   "id": "96235ac6-2f70-4e2d-a977-e06826860c6e",
   "metadata": {},
   "source": [
    "3. How do you define a constructor in a Python class? Provide an example."
   ]
  },
  {
   "cell_type": "code",
   "execution_count": 5,
   "id": "58e80888-32ef-4877-ba2d-bb1313690356",
   "metadata": {},
   "outputs": [
    {
     "name": "stdout",
     "output_type": "stream",
     "text": [
      "Value1\n",
      "42\n"
     ]
    }
   ],
   "source": [
    "class MyClass:\n",
    "    def __init__(self, parameter1, parameter2):\n",
    "        # Initialize object attributes here\n",
    "        self.attribute1 = parameter1\n",
    "        self.attribute2 = parameter2\n",
    "\n",
    "# Creating an instance of the MyClass class using the constructor\n",
    "obj = MyClass(\"Value1\", 42)\n",
    "\n",
    "# Accessing object attributes\n",
    "print(obj.attribute1)  # Output: \"Value1\"\n",
    "print(obj.attribute2)  # Output: 42\n"
   ]
  },
  {
   "cell_type": "markdown",
   "id": "cf83994f-41a2-443b-8fa7-de84169a0b36",
   "metadata": {},
   "source": [
    "5. In a class named `Person`, create a constructor that initializes the `name` and `age` attributes. Provide an\n",
    "example of creating an object of this class."
   ]
  },
  {
   "cell_type": "code",
   "execution_count": 7,
   "id": "1aeaf85a-8d15-46b5-bbd8-89d8bd08b3d6",
   "metadata": {},
   "outputs": [],
   "source": [
    "class Person:\n",
    "    def __init__(self, name, age):\n",
    "        self.name=name\n",
    "        self.age=age\n",
    "        \n",
    "        \n",
    "#creating an objcet\n",
    "p1=Person('ravi',22)"
   ]
  },
  {
   "cell_type": "markdown",
   "id": "4ca07168-2356-42d1-92c0-0afaf2ca40e0",
   "metadata": {},
   "source": [
    "6. How can you call a constructor explicitly in Python? Give an example."
   ]
  },
  {
   "cell_type": "markdown",
   "id": "cb90dc31-9e7d-485a-8b63-18c9f932fabf",
   "metadata": {},
   "source": [
    "7. What is the significance of the `self` parameter in Python constructors? Explain with an example."
   ]
  },
  {
   "cell_type": "markdown",
   "id": "f1399623-5619-4b0a-83b4-49ee879c133a",
   "metadata": {},
   "source": [
    "8. Discuss the concept of default constructors in Python. When are they used?"
   ]
  },
  {
   "cell_type": "markdown",
   "id": "d7796e92-52c2-4b78-abfa-caebbce4f879",
   "metadata": {},
   "source": [
    "9. Create a Python class called `Rectangle` with a constructor that initializes the `width` and `height`\n",
    "attributes. Provide a method to calculate the area of the rectangle."
   ]
  },
  {
   "cell_type": "code",
   "execution_count": 8,
   "id": "73d14d47-90d1-44de-8d94-b3ddbd49ff90",
   "metadata": {},
   "outputs": [
    {
     "data": {
      "text/plain": [
       "420"
      ]
     },
     "execution_count": 8,
     "metadata": {},
     "output_type": "execute_result"
    }
   ],
   "source": [
    "class Rectangle:\n",
    "    ''' calculate area if rectangle'''\n",
    "    \n",
    "    def __init__(self, width, height):\n",
    "        self.width=width\n",
    "        self.height=height\n",
    "        \n",
    "    def area(self):\n",
    "        '''calculate and return area of a rectangle'''\n",
    "        return self.width*self.height\n",
    "    \n",
    "#creating an instance \n",
    "r=Rectangle(20,21)\n",
    "\n",
    "#calling class method to get area of rectangle\n",
    "r.area()\n",
    "        "
   ]
  },
  {
   "cell_type": "markdown",
   "id": "b38214a1-f66e-4d01-9a40-06e9ec3ac90d",
   "metadata": {},
   "source": [
    "10. How can you have multiple constructors in a Python class? Explain with an example.\n",
    "11. What is method overloading, and how is it related to constructors in Python?"
   ]
  },
  {
   "cell_type": "markdown",
   "id": "fc3620f0-8f41-4309-803f-6c28f72bd20c",
   "metadata": {},
   "source": [
    "12. Explain the use of the `super()` function in Python constructors. Provide an example."
   ]
  },
  {
   "cell_type": "markdown",
   "id": "180133bd-03b4-41a6-a3d0-b9b4af713437",
   "metadata": {},
   "source": [
    "The super() function is used in constructors to call a method from a parent class (or superclass). It's commonly used when we want to extend the behavior of a subclass while preserving and reusing the behavior of the superclass."
   ]
  },
  {
   "cell_type": "code",
   "execution_count": 10,
   "id": "2314371e-fc8a-49c9-9bf4-27e7b292762a",
   "metadata": {},
   "outputs": [
    {
     "name": "stdout",
     "output_type": "stream",
     "text": [
      "Parent attribute: Parent Value\n",
      "Child attribute: Child Value\n"
     ]
    }
   ],
   "source": [
    "class Parent:\n",
    "    def __init__(self, parent_attribute):\n",
    "        self.parent_attribute = parent_attribute\n",
    "\n",
    "    def display(self):\n",
    "        print(f\"Parent attribute: {self.parent_attribute}\")\n",
    "\n",
    "class Child(Parent):\n",
    "    def __init__(self, parent_attribute, child_attribute):\n",
    "        super().__init__(parent_attribute)  # Call the parent class constructor\n",
    "        self.child_attribute = child_attribute\n",
    "\n",
    "    def display(self):\n",
    "        super().display()  # Call the parent class method\n",
    "        print(f\"Child attribute: {self.child_attribute}\")\n",
    "\n",
    "# Create an instance of the Child class\n",
    "child_obj = Child(\"Parent Value\", \"Child Value\")\n",
    "\n",
    "# Call the Child class's display method\n",
    "child_obj.display()\n"
   ]
  },
  {
   "cell_type": "markdown",
   "id": "5dd28e96-580c-4cb6-a38c-92e93a4b7bcf",
   "metadata": {},
   "source": [
    "13. Create a class called `Book` with a constructor that initializes the `title`, `author`, and `published_year`\n",
    "attributes. Provide a method to display book details."
   ]
  },
  {
   "cell_type": "code",
   "execution_count": 12,
   "id": "bb56f1ec-8550-44fa-8a2c-aa444a331949",
   "metadata": {},
   "outputs": [],
   "source": [
    "class Book:\n",
    "    '''Display books detail'''\n",
    "    \n",
    "    def __init__(self, title, author, published_year):\n",
    "        self.title=title\n",
    "        self.author=author\n",
    "        self.published_year=published_year\n",
    "        \n",
    "    def display_book_details(self):\n",
    "        print(f\"Book Name : {(self.title).title()}\\nAuthor : {(self.author).title()}\\nPublished Year : {self.published_year}\")"
   ]
  },
  {
   "cell_type": "code",
   "execution_count": 13,
   "id": "418e70ed-1a9a-4936-b337-c352045ee15d",
   "metadata": {},
   "outputs": [],
   "source": [
    "book1=Book('Data Science','andrew ng',2023)"
   ]
  },
  {
   "cell_type": "code",
   "execution_count": 14,
   "id": "adeea807-b7aa-4865-934d-769727261fa4",
   "metadata": {},
   "outputs": [
    {
     "name": "stdout",
     "output_type": "stream",
     "text": [
      "Book Name : Data Science\n",
      "Author : Andrew Ng\n",
      "Published Year : 2023\n"
     ]
    }
   ],
   "source": [
    "book1.display_book_details()"
   ]
  },
  {
   "cell_type": "markdown",
   "id": "77e024cc-f2b1-41c0-be05-0d4f1434b0ca",
   "metadata": {},
   "source": [
    "14. Discuss the differences between constructors and regular methods in Python classes."
   ]
  },
  {
   "cell_type": "markdown",
   "id": "e97c9ea5-f9a8-4ba8-aaa0-28decab5a54f",
   "metadata": {},
   "source": [
    "Constructors and regular methods in Python classes serve different purposes and have distinct characteristics. Here are the key differences between constructors and regular methods:\n",
    "\n",
    "1. **Initialization vs. General Functionality**:\n",
    "   - Constructors are used for initializing objects and setting their initial state. They are called automatically when an instance of the class is created.\n",
    "   - Regular methods are used to define the behavior and functionality of objects. They are called explicitly on instances of the class.\n",
    "\n",
    "2. **Naming and Special Method**:\n",
    "   - Constructors are defined using the special method `__init__`. It is automatically called when you create an instance of the class.\n",
    "   - Regular methods are defined with regular names and are called by invoking the method on an instance of the class.\n",
    "\n",
    "3. **Arguments**:\n",
    "   - Constructors typically take the `self` parameter (to reference the instance being created) and additional arguments to initialize object attributes.\n",
    "   - Regular methods take the `self` parameter to reference the instance, and they can also take additional arguments as needed to perform their tasks.\n",
    "\n",
    "4. **Call Mechanism**:\n",
    "   - Constructors are called automatically when you create an instance of the class. You don't need to call them explicitly; they are invoked by the object creation syntax.\n",
    "   - Regular methods must be called explicitly on instances of the class using dot notation (e.g., `object.method()`).\n",
    "\n",
    "5. **Return Values**:\n",
    "   - Constructors do not return values explicitly. They initialize the object's attributes and prepare the object for use.\n",
    "   - Regular methods can return values, which can be used in the rest of the program.\n",
    "\n",
    "6. **Purpose**:\n",
    "   - Constructors are primarily used for object setup, attribute initialization, and any one-time setup tasks required when creating objects.\n",
    "   - Regular methods are used for performing actions or operations related to the objects. They encapsulate the behavior of the objects.\n",
    "\n",
    "7. **Multiple Definitions**:\n",
    "   - In a class, you can have only one constructor, which is the `__init__` method. You can have only one initialization method per class.\n",
    "   - You can define multiple regular methods in a class, each with its own name, for different purposes and behaviors.\n",
    "\n",
    "8. **Overloading**:\n",
    "   - Constructors do not support method overloading in the traditional sense. You can use default parameter values and optional arguments to simulate different constructor signatures.\n",
    "   - Regular methods can be overloaded, meaning you can define multiple methods with the same name but different parameter lists in a class.\n",
    "\n",
    "In summary, constructors are specifically designed for object initialization and are automatically called when objects are created, while regular methods define the functionality of objects and must be called explicitly. Understanding these differences is essential when designing and working with classes in Python."
   ]
  },
  {
   "cell_type": "markdown",
   "id": "7ddc234c-05e9-45ea-ab73-d478e03bbf41",
   "metadata": {},
   "source": [
    "15. Explain the role of the `self` parameter in instance variable initialization within a constructor.\n",
    "16. How do you prevent a class from having multiple instances by using constructors in Python? Provide an\n",
    "example."
   ]
  },
  {
   "cell_type": "markdown",
   "id": "c5ae5822-6809-4bd2-96a6-c34d6aba3b31",
   "metadata": {},
   "source": [
    "17. Create a Python class called `Student` with a constructor that takes a list of subjects as a parameter and\n",
    "initializes the `subjects` attribute."
   ]
  },
  {
   "cell_type": "code",
   "execution_count": 17,
   "id": "35bff2ee-56fa-4e99-a3e1-547c1ef86d8c",
   "metadata": {},
   "outputs": [
    {
     "data": {
      "text/plain": [
       "['DSA', 'Database Management', 'Python Programming', 'Math']"
      ]
     },
     "execution_count": 17,
     "metadata": {},
     "output_type": "execute_result"
    }
   ],
   "source": [
    "class Student:\n",
    "    def __init__(self, subjects):\n",
    "        self.subjects=subjects\n",
    "        \n",
    "#creating an instacne\n",
    "stu1=Student([\"DSA\",\"Database Management\",\"Python Programming\",\"Math\"])\n",
    "\n",
    "#accessing attribute\n",
    "stu1.subjects"
   ]
  },
  {
   "cell_type": "markdown",
   "id": "87f45e92-0ea7-494f-b5b5-4c414fb5795f",
   "metadata": {},
   "source": [
    "18. What is the purpose of the `__del__` method in Python classes, and how does it relate to constructors?"
   ]
  },
  {
   "cell_type": "markdown",
   "id": "f275fcb0-ba6a-445b-b245-1b81a7929f50",
   "metadata": {},
   "source": [
    "The __del__ method in Python is used to define the destructor for a class. It is called when an object is about to be destroyed or deallocated, typically when it goes out of scope and is no longer referenced or when it's explicitly deleted using the del statement. The primary purpose of the __del__ method is to perform cleanup operations or release resources held by the object.\n",
    "\n",
    "The __del__ method is the counterpart to the __init__ constructor, which is responsible for initializing an object when it's created. While the __init__ constructor sets up the initial state of an object, the __del__ method is used to clean up and release any resources acquired during the object's lifetime."
   ]
  },
  {
   "cell_type": "code",
   "execution_count": 19,
   "id": "ca35a141-6bf8-450a-887d-675aeac10bb1",
   "metadata": {},
   "outputs": [
    {
     "name": "stdout",
     "output_type": "stream",
     "text": [
      "Object created with value: Instance 1\n",
      "Object created with value: Instance 2\n",
      "Object with value Instance 2 is being destroyed\n",
      "Object with value Instance 1 is being destroyed\n"
     ]
    }
   ],
   "source": [
    "class MyClass:\n",
    "    def __init__(self, value):\n",
    "        self.value = value\n",
    "        print(f\"Object created with value: {self.value}\")\n",
    "\n",
    "    def __del__(self):\n",
    "        print(f\"Object with value {self.value} is being destroyed\")\n",
    "\n",
    "# Create instances of MyClass\n",
    "obj1 = MyClass(\"Instance 1\")\n",
    "obj2 = MyClass(\"Instance 2\")\n",
    "\n",
    "# Delete one of the instances\n",
    "del obj1\n",
    "\n"
   ]
  },
  {
   "cell_type": "markdown",
   "id": "12137d08-55df-4784-9560-eade3f987720",
   "metadata": {},
   "source": [
    "19. Explain the use of constructor chaining in Python. Provide a practical example."
   ]
  },
  {
   "cell_type": "markdown",
   "id": "e2227c0f-7b64-4a10-9491-db22d4a2f1fd",
   "metadata": {},
   "source": [
    "Constructor chaining in Python refers to the process of calling one constructor from another within a class hierarchy. This allows you to reuse code and initialize objects more effectively, especially in situations where you have a subclass that extends a parent class and both classes have their own constructors.\n",
    "\n",
    "To achieve constructor chaining, we use the super() function to call the constructor of the parent class. This ensures that both the parent and child class constructors are executed, allowing for proper initialization of attributes and setup operations."
   ]
  },
  {
   "cell_type": "code",
   "execution_count": 21,
   "id": "46f9374d-ba5f-4086-bc71-93ea133a1c13",
   "metadata": {},
   "outputs": [
    {
     "name": "stdout",
     "output_type": "stream",
     "text": [
      "Name: Ravi, Age: 22, Student ID: 1616066\n"
     ]
    }
   ],
   "source": [
    "class Person:\n",
    "    def __init__(self, name, age):\n",
    "        self.name = name\n",
    "        self.age = age\n",
    "\n",
    "class Student(Person):\n",
    "    def __init__(self, name, age, student_id):\n",
    "        super().__init__(name, age)  # Call the constructor of the parent class\n",
    "        self.student_id = student_id\n",
    "\n",
    "    def display(self):\n",
    "        print(f\"Name: {self.name}, Age: {self.age}, Student ID: {self.student_id}\")\n",
    "\n",
    "# Create a Student object\n",
    "student = Student(\"Ravi\", 22, \"1616066\")\n",
    "\n",
    "# Call the display method to show the initialized attributes\n",
    "student.display()\n"
   ]
  },
  {
   "cell_type": "markdown",
   "id": "63cce456-45bd-4d76-8f04-3d71edc0c58b",
   "metadata": {},
   "source": [
    "20. Create a Python class called `Car` with a default constructor that initializes the `make` and `model`\n",
    "attributes. Provide a method to display car information."
   ]
  },
  {
   "cell_type": "code",
   "execution_count": 22,
   "id": "b4c0162c-4605-44f7-8dda-b31f9430855c",
   "metadata": {},
   "outputs": [],
   "source": [
    "class Car:\n",
    "    '''Display Car Information'''\n",
    "    \n",
    "    def __init__(self):\n",
    "        self.make='Audi'\n",
    "        self.model=2009\n",
    "        \n",
    "    def display_details(self):\n",
    "        print(f\"{self.make} {self.model}\")"
   ]
  },
  {
   "cell_type": "code",
   "execution_count": 23,
   "id": "57a19a39-0cd8-4803-ad7a-dea0a486a0c0",
   "metadata": {},
   "outputs": [
    {
     "name": "stdout",
     "output_type": "stream",
     "text": [
      "Audi 2009\n"
     ]
    }
   ],
   "source": [
    "car1=Car()\n",
    "car1.display_details()"
   ]
  },
  {
   "cell_type": "markdown",
   "id": "6918daaf-e67c-486e-822d-42b601971a84",
   "metadata": {},
   "source": [
    "# Inheritance"
   ]
  },
  {
   "cell_type": "markdown",
   "id": "8435958a-6e76-43ca-b8b8-ae4114c06f68",
   "metadata": {},
   "source": [
    "1. What is inheritance in Python? Explain its significance in object-oriented programming."
   ]
  },
  {
   "cell_type": "markdown",
   "id": "e499b8ff-e544-46e7-8919-2e13acb43105",
   "metadata": {},
   "source": [
    "*Inheritance allows us to define a class that inherits all the methods and properties from another class.*\n",
    "\n",
    "The original class is called the **parent class**, and the new class is the **child class**. The child class inherits every attribute and method from its parent class but is also free to define new attributes and methods of its own.\n",
    "Significance of Inheritance in oops\n",
    "1. Code Reusability: Inheritance promotes code reuse. You can define a base class with common attributes and methods, and then create multiple subclasses that inherit these attributes and methods. This reduces code duplication and makes your code more maintainable.\n",
    "\n",
    "2. Hierarchy and Organization: Inheritance allows you to create a hierarchy of classes. You can represent the relationships between objects in your program more intuitively. For example, you can have a base class \"Animal\" and subclasses like \"Cat,\" \"Dog,\" and \"Bird.\"\n",
    "\n",
    "3. Specialization: Subclasses can add or override methods and attributes inherited from the base class. This allows you to specialize or customize the behavior of objects as needed. For example, a \"Rectangle\" class can inherit from a \"Shape\" class and provide its own implementation for calculating the area.\n",
    "\n",
    "4. Polymorphism: Inheritance is closely related to the concept of polymorphism. Subclasses can be used wherever their base class is expected. This allows you to write more generic code that can work with a variety of objects, making your code more flexible."
   ]
  },
  {
   "cell_type": "markdown",
   "id": "788988c6-4e7e-4085-a5e7-6b2662caeff4",
   "metadata": {},
   "source": [
    "2. Differentiate between single inheritance and multiple inheritance in Python. Provide examples for each."
   ]
  },
  {
   "cell_type": "markdown",
   "id": "bcac1dcc-78f9-43ee-9be5-a9864e1e9067",
   "metadata": {},
   "source": [
    "3. Create a Python class called `Vehicle` with attributes `color` and `speed`. Then, create a child class called\n",
    "`Car` that inherits from `Vehicle` and adds a `brand` attribute. Provide an example of creating a `Car` object"
   ]
  },
  {
   "cell_type": "code",
   "execution_count": 9,
   "id": "5ef2ce3e-a78e-48c5-82fc-4581118713fe",
   "metadata": {},
   "outputs": [
    {
     "name": "stdout",
     "output_type": "stream",
     "text": [
      "Color: Red\n",
      "Speed: 120\n",
      "Brand: Toyota\n"
     ]
    }
   ],
   "source": [
    "class Vehicle:\n",
    "    def __init__(self, color, speed):\n",
    "        self.color = color\n",
    "        self.speed = speed\n",
    "\n",
    "class Car(Vehicle):\n",
    "    def __init__(self, color, speed, brand):\n",
    "        super().__init__(color, speed)\n",
    "        self.brand = brand\n",
    "\n",
    "# Creating a Car object\n",
    "my_car = Car(\"Red\", 120, \"Toyota\")\n",
    "\n",
    "# Accessing attributes of the Car object\n",
    "print(\"Color:\", my_car.color)\n",
    "print(\"Speed:\", my_car.speed)\n",
    "print(\"Brand:\", my_car.brand)"
   ]
  },
  {
   "cell_type": "markdown",
   "id": "4b313a57-9738-4f85-aa1e-a9c646a66631",
   "metadata": {},
   "source": [
    "4. Explain the concept of method overriding in inheritance. Provide a practical example."
   ]
  },
  {
   "cell_type": "markdown",
   "id": "80043ede-b406-4278-9a41-3955ff12e874",
   "metadata": {},
   "source": [
    "Method overriding is a concept in inheritance where a subclass provides a specific implementation of a method that is already defined in its superclass. The overriding method in the subclass has the same name, return type, and parameters as the method in the superclass. This allows the subclass to provide its own behavior for that method, replacing or extending the behavior inherited from the superclass.\n",
    "\n",
    "When an object of the subclass calls the overridden method, the subclass's implementation is executed instead of the superclass's implementation. Method overriding is a way to customize or specialize the behavior of inherited methods in a derived class."
   ]
  },
  {
   "cell_type": "code",
   "execution_count": 11,
   "id": "bdeda15d-147f-4746-b495-7ec79e317b84",
   "metadata": {},
   "outputs": [
    {
     "name": "stdout",
     "output_type": "stream",
     "text": [
      "Animal makes a sound\n",
      "Dog barks\n",
      "Cat meows\n"
     ]
    }
   ],
   "source": [
    "class Animal:\n",
    "    def speak(self):\n",
    "        print(\"Animal makes a sound\")\n",
    "\n",
    "class Dog(Animal):\n",
    "    def speak(self):\n",
    "        print(\"Dog barks\")\n",
    "\n",
    "class Cat(Animal):\n",
    "    def speak(self):\n",
    "        print(\"Cat meows\")\n",
    "\n",
    "# Creating objects\n",
    "animal = Animal()\n",
    "dog = Dog()\n",
    "cat = Cat()\n",
    "\n",
    "# Calling the speak method on objects\n",
    "animal.speak()  \n",
    "dog.speak()     \n",
    "cat.speak()     "
   ]
  },
  {
   "cell_type": "markdown",
   "id": "a93aba68-76de-4af7-914f-3e703fe5016a",
   "metadata": {},
   "source": [
    "5. How can you access the methods and attributes of a parent class from a child class in Python? Give an\n",
    "example."
   ]
  },
  {
   "cell_type": "code",
   "execution_count": 5,
   "id": "86c15006-8251-49d6-a89d-1766bc989982",
   "metadata": {},
   "outputs": [
    {
     "name": "stdout",
     "output_type": "stream",
     "text": [
      "Ravinder\n",
      "83920\n",
      "Withdraw successful\n",
      "Account No. : 9883223823\n",
      "Name : Ravinder\n",
      "Balance : 83920\n"
     ]
    }
   ],
   "source": [
    "class Bank:\n",
    "    \n",
    "    def __init__(self, account_number,name):\n",
    "        self.account_number=account_number\n",
    "        self.name=name\n",
    "        self.balance=83920\n",
    "        \n",
    "    def withdraw(self):\n",
    "        print(\"Withdraw successful\")\n",
    "        \n",
    "class Account(Bank):\n",
    "    \n",
    "    def __init__(self, account_number, name):\n",
    "        super().__init__(account_number, name)\n",
    "        \n",
    "    def details(self):\n",
    "        print(f\"Account No. : {self.account_number}\\nName : {self.name}\\nBalance : {self.balance}\")\n",
    "        \n",
    "ravi=Account(9883223823,'Ravinder')\n",
    "\n",
    "#accessing parent class attribute using child class object\n",
    "print(ravi.name)\n",
    "print(ravi.balance)\n",
    "\n",
    "#accessing parent class method using child class object\n",
    "ravi.withdraw()\n",
    "\n",
    "ravi.details()"
   ]
  },
  {
   "cell_type": "markdown",
   "id": "692bc9b1-aed6-4bea-a10c-c35dcb19122a",
   "metadata": {},
   "source": [
    "6. Discuss the use of the `super()` function in Python inheritance. When and why is it used? Provide an\n",
    "example."
   ]
  },
  {
   "cell_type": "markdown",
   "id": "7f815d88-34cb-4da8-b29f-ae8759981c42",
   "metadata": {},
   "source": [
    "In Python, the super() function is used in the context of inheritance to call a method from the parent class (also known as the superclass or base class) within a child class (also known as the subclass or derived class). It is particularly useful when you want to extend the behavior of a method defined in the parent class or when you want to add functionality to the method without completely overriding it. super() provides a way to invoke the method in the parent class, allowing you to reuse and build upon the existing functionality."
   ]
  },
  {
   "cell_type": "code",
   "execution_count": 6,
   "id": "6a9137ba-707c-4b97-9c78-3fdb5e527af5",
   "metadata": {},
   "outputs": [
    {
     "name": "stdout",
     "output_type": "stream",
     "text": [
      "Buddy makes a sound\n",
      "Buddy barks\n",
      "Whiskers makes a sound\n",
      "Whiskers meows\n"
     ]
    }
   ],
   "source": [
    "class Animal:\n",
    "    def __init__(self, name):\n",
    "        self.name = name\n",
    "\n",
    "    def speak(self):\n",
    "        print(f\"{self.name} makes a sound\")\n",
    "\n",
    "class Dog(Animal):\n",
    "    def speak(self):\n",
    "        super().speak()  # Call the speak method of the parent class\n",
    "        print(f\"{self.name} barks\")\n",
    "\n",
    "class Cat(Animal):\n",
    "    def speak(self):\n",
    "        super().speak()  # Call the speak method of the parent class\n",
    "        print(f\"{self.name} meows\")\n",
    "\n",
    "dog = Dog(\"Buddy\")\n",
    "cat = Cat(\"Whiskers\")\n",
    "\n",
    "dog.speak()\n",
    "cat.speak()"
   ]
  },
  {
   "cell_type": "markdown",
   "id": "f477b01f-9037-4e2c-89ee-2ef5ba834637",
   "metadata": {},
   "source": [
    "7. Create a Python class called `Animal` with a method `speak()`. Then, create child classes `Dog` and `Cat` that inherit from `Animal` and override the `speak()` method. Provide an example of using these classes."
   ]
  },
  {
   "cell_type": "code",
   "execution_count": 10,
   "id": "e70f0eaf-1f87-40a4-9183-52c380a66202",
   "metadata": {},
   "outputs": [
    {
     "name": "stdout",
     "output_type": "stream",
     "text": [
      "Dog barks\n",
      "Cat Meow\n"
     ]
    }
   ],
   "source": [
    "# Define the base class \"Animal\"\n",
    "class Animal:\n",
    "    \n",
    "    # Define the speak method in the base class with a placeholder \"pass\"\n",
    "    def speak(self):\n",
    "        pass\n",
    "    \n",
    "# Define a child class \"Dog\" that inherits from \"Animal\"\n",
    "class Dog(Animal):\n",
    "    \n",
    "    # Override the speak method for the Dog class\n",
    "    def speak(self):\n",
    "        print(\"Dog barks\")\n",
    "    \n",
    "# Define another child class \"Cat\" that also inherits from \"Animal\"\n",
    "class Cat(Animal):\n",
    "    \n",
    "    # Override the speak method for the Cat class\n",
    "    def speak(self):\n",
    "        print(\"Cat Meow\")\n",
    "    \n",
    "# Create instances of the Dog and Cat classes\n",
    "dog = Dog()\n",
    "cat = Cat()\n",
    "\n",
    "# Call the speak method on the Dog and Cat instances\n",
    "dog.speak()  \n",
    "cat.speak()"
   ]
  },
  {
   "cell_type": "markdown",
   "id": "55dc3a80-ba60-490b-beaf-1ddb3245e0c7",
   "metadata": {},
   "source": [
    "8. Explain the role of the `isinstance()` function in Python and how it relates to inheritance."
   ]
  },
  {
   "cell_type": "markdown",
   "id": "ba699748-7f61-4d5c-b0d7-e216f911c5f8",
   "metadata": {},
   "source": [
    "The isinstance() function in Python is used to determine whether an object belongs to a particular class or a class derived from it in the context of inheritance. It is a built-in function that allows you to check the type of an object and see if it is an instance of a specific class or any of its subclasses. The function returns True if the object is an instance of the specified class or a subclass of it, and False otherwise."
   ]
  },
  {
   "cell_type": "code",
   "execution_count": 11,
   "id": "9562c4d9-9368-4e23-bb55-d6489193d84b",
   "metadata": {},
   "outputs": [
    {
     "name": "stdout",
     "output_type": "stream",
     "text": [
      "True\n",
      "True\n",
      "True\n",
      "True\n",
      "True\n",
      "False\n",
      "False\n"
     ]
    }
   ],
   "source": [
    "class Animal:\n",
    "    pass\n",
    "\n",
    "class Dog(Animal):\n",
    "    pass\n",
    "\n",
    "class Cat(Animal):\n",
    "    pass\n",
    "\n",
    "dog = Dog()\n",
    "cat = Cat()\n",
    "animal = Animal()\n",
    "\n",
    "# Check if objects are instances of specific classes\n",
    "print(isinstance(dog, Dog))   \n",
    "print(isinstance(cat, Cat))   \n",
    "print(isinstance(animal, Animal)) \n",
    "\n",
    "# Check if objects are instances of base class or its subclasses\n",
    "print(isinstance(dog, Animal)) \n",
    "print(isinstance(cat, Animal)) \n",
    "\n",
    "# Check if objects are not instances of specific classes\n",
    "print(isinstance(dog, Cat))     \n",
    "print(isinstance(cat, Dog))     "
   ]
  },
  {
   "cell_type": "markdown",
   "id": "9e61ce9a-8660-4740-b08d-fe35bc59ec0b",
   "metadata": {},
   "source": [
    "9. What is the purpose of the `issubclass()` function in Python? Provide an example."
   ]
  },
  {
   "cell_type": "markdown",
   "id": "d58a7859-818c-4e3e-b52f-7ec93e8e7e2a",
   "metadata": {},
   "source": [
    "The issubclass() function in Python is used to check whether a given class is a subclass of another class. It allows you to determine the inheritance relationship between classes. This function helps you verify if one class is derived from another, which can be useful when you want to understand the class hierarchy and relationships in your code."
   ]
  },
  {
   "cell_type": "code",
   "execution_count": 12,
   "id": "546e8140-86c5-4f52-9b8d-58427beb7d7a",
   "metadata": {},
   "outputs": [
    {
     "name": "stdout",
     "output_type": "stream",
     "text": [
      "True\n",
      "True\n",
      "False\n"
     ]
    }
   ],
   "source": [
    "class Animal:\n",
    "    pass\n",
    "\n",
    "class Dog(Animal):\n",
    "    pass\n",
    "\n",
    "class Cat(Animal):\n",
    "    pass\n",
    "\n",
    "class Fish:\n",
    "    pass\n",
    "\n",
    "# Check if one class is a subclass of another\n",
    "print(issubclass(Dog, Animal))  \n",
    "print(issubclass(Cat, Animal))  \n",
    "print(issubclass(Fish, Animal))"
   ]
  },
  {
   "cell_type": "markdown",
   "id": "eac32a1e-28bb-4736-8247-2cd0617fca72",
   "metadata": {},
   "source": [
    "10. Discuss the concept of constructor inheritance in Python. How are constructors inherited in child classes?"
   ]
  },
  {
   "cell_type": "markdown",
   "id": "cc2de2ca-8ff2-461d-9249-b8f1ab510340",
   "metadata": {},
   "source": [
    "11. Create a Python class called `Shape` with a method `area()` that calculates the area of a shape. Then, create child classes `Circle` and `Rectangle` that inherit from `Shape` and implement the `area()` method\n",
    "accordingly. Provide an example."
   ]
  },
  {
   "cell_type": "code",
   "execution_count": 13,
   "id": "7fb1b8ef-f937-47a6-a157-bb10bf969ee7",
   "metadata": {},
   "outputs": [
    {
     "name": "stdout",
     "output_type": "stream",
     "text": [
      "Area of the circle: 78.54 square units\n",
      "Area of the rectangle: 24 square units\n"
     ]
    }
   ],
   "source": [
    "import math  # Import the math module for the value of pi\n",
    "\n",
    "class Shape:\n",
    "    def area(self):\n",
    "        pass  # The base class method is empty\n",
    "\n",
    "class Circle(Shape):\n",
    "    def __init__(self, radius):\n",
    "        self.radius = radius\n",
    "\n",
    "    def area(self):\n",
    "        return math.pi * self.radius ** 2  # Calculate the area of a circle\n",
    "\n",
    "class Rectangle(Shape):\n",
    "    def __init__(self, length, width):\n",
    "        self.length = length\n",
    "        self.width = width\n",
    "\n",
    "    def area(self):\n",
    "        return self.length * self.width  # Calculate the area of a rectangle\n",
    "\n",
    "# Create instances of the child classes\n",
    "circle = Circle(5)  # Circle with a radius of 5 units\n",
    "rectangle = Rectangle(4, 6)  # Rectangle with dimensions 4x6 units\n",
    "\n",
    "# Calculate and print the areas of the shapes\n",
    "print(f\"Area of the circle: {circle.area():.2f} square units\")\n",
    "print(f\"Area of the rectangle: {rectangle.area()} square units\")"
   ]
  },
  {
   "cell_type": "code",
   "execution_count": null,
   "id": "67adf481-944c-4501-807c-60e5d64cba86",
   "metadata": {},
   "outputs": [],
   "source": []
  }
 ],
 "metadata": {
  "kernelspec": {
   "display_name": "Python 3 (ipykernel)",
   "language": "python",
   "name": "python3"
  },
  "language_info": {
   "codemirror_mode": {
    "name": "ipython",
    "version": 3
   },
   "file_extension": ".py",
   "mimetype": "text/x-python",
   "name": "python",
   "nbconvert_exporter": "python",
   "pygments_lexer": "ipython3",
   "version": "3.10.8"
  }
 },
 "nbformat": 4,
 "nbformat_minor": 5
}
