{
 "cells": [
  {
   "cell_type": "code",
   "execution_count": 12,
   "id": "58a5f9e4-4371-48f2-b42c-a61ee41a2214",
   "metadata": {},
   "outputs": [],
   "source": [
    "#defining code to reverse an array\n",
    "def reverse_array(arr:list, start:int, end:int):\n",
    "    while(start<end):\n",
    "        temp=arr[start]\n",
    "        arr[start]=arr[end]\n",
    "        arr[end]=temp\n",
    "        \n",
    "        start+=1\n",
    "        end-=1"
   ]
  },
  {
   "cell_type": "code",
   "execution_count": 13,
   "id": "b6f1b410-d35d-4ca0-b3b0-5b3185d34dd0",
   "metadata": {},
   "outputs": [],
   "source": [
    "def rotate_array(arr, k):\n",
    "    k=k%len(arr)\n",
    "    \n",
    "    reverse_array(arr,0,len(arr)-1)\n",
    "    reverse_array(arr,0,k-1)\n",
    "    reverse_array(arr,k,len(arr)-1)\n",
    "    "
   ]
  },
  {
   "cell_type": "code",
   "execution_count": 14,
   "id": "5637a77f-2c4b-4cd2-b725-2c0d8bfab388",
   "metadata": {},
   "outputs": [
    {
     "name": "stdout",
     "output_type": "stream",
     "text": [
      "[5, 6, 7, 1, 2, 3, 4]\n"
     ]
    }
   ],
   "source": [
    "#driver code\n",
    "arr=[1,2,3,4,5,6,7]\n",
    "k=3\n",
    "rotate_array(arr, k)\n",
    "print(arr)\n",
    "#output:--->[5,6,7,1,2,3,4]"
   ]
  },
  {
   "cell_type": "markdown",
   "id": "08e508ed-2020-477e-9529-ff5796876d6b",
   "metadata": {},
   "source": [
    "###  the time complexity is O(n) and the space complexity is O(1)."
   ]
  },
  {
   "cell_type": "code",
   "execution_count": null,
   "id": "b7087b90-fa09-45c3-8582-80c946b15d67",
   "metadata": {},
   "outputs": [],
   "source": []
  }
 ],
 "metadata": {
  "kernelspec": {
   "display_name": "Python 3 (ipykernel)",
   "language": "python",
   "name": "python3"
  },
  "language_info": {
   "codemirror_mode": {
    "name": "ipython",
    "version": 3
   },
   "file_extension": ".py",
   "mimetype": "text/x-python",
   "name": "python",
   "nbconvert_exporter": "python",
   "pygments_lexer": "ipython3",
   "version": "3.10.8"
  }
 },
 "nbformat": 4,
 "nbformat_minor": 5
}
